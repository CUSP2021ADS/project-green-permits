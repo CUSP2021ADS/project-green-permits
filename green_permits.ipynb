{
 "cells": [
  {
   "cell_type": "markdown",
   "metadata": {},
   "source": [
    "### Speed of NYC Permit Approval for Green Retrofits of Small Buildings\n",
    "#### Data Exploration"
   ]
  },
  {
   "cell_type": "markdown",
   "metadata": {},
   "source": [
    "Setup"
   ]
  },
  {
   "cell_type": "code",
   "execution_count": 1,
   "metadata": {},
   "outputs": [],
   "source": [
    "import pandas as pd\n",
    "import numpy as np\n",
    "import requests\n",
    "import matplotlib.pyplot as plt"
   ]
  },
  {
   "cell_type": "markdown",
   "metadata": {},
   "source": [
    "Define Socrata API handler to page through JSON data"
   ]
  },
  {
   "cell_type": "code",
   "execution_count": 55,
   "metadata": {},
   "outputs": [],
   "source": [
    "def get_resource(resource, query='', dates=[], limit=1000, progress=False):\n",
    "    headers = {'X-App-Token': 'b0nu5h6f5RSJRNPajPuuCf7wo'}\n",
    "    result = []\n",
    "    offset = 0\n",
    "    while offset >= 0:\n",
    "        url = f'https://data.cityofnewyork.us/resource/{resource}.json?$limit={limit}&$offset={offset}&$order=:id'\n",
    "        if query != '': #can't use requests params bc of possible $ char\n",
    "            url += f'&{query}'\n",
    "        if (progress):\n",
    "            print(url)\n",
    "        json = requests.get(url, headers=headers).json()\n",
    "        if 'error' in json:\n",
    "            print(json['message'])\n",
    "            return\n",
    "        else:\n",
    "            df = pd.DataFrame(json)\n",
    "            if len(df):\n",
    "                if len(dates):\n",
    "                    df[dates] = df[dates].apply(pd.to_datetime, errors='coerce')\n",
    "                result.append(df)\n",
    "                offset += limit\n",
    "            else:\n",
    "                offset = -1\n",
    "\n",
    "    result = pd.concat(result) if len(result) else pd.DataFrame()\n",
    "    return result"
   ]
  },
  {
   "cell_type": "markdown",
   "metadata": {},
   "source": [
    "Get [permit data](https://data.cityofnewyork.us/Housing-Development/DOB-Permit-Issuance/ipu4-2q9a) potentially relevant to sustainability based changes"
   ]
  },
  {
   "cell_type": "code",
   "execution_count": 56,
   "metadata": {
    "tags": []
   },
   "outputs": [],
   "source": [
    "resource = 'ipu4-2q9a'\n",
    "query = (\n",
    "    \"$where=(work_type in ('BL', 'FB', 'FS', 'MH', 'OT') AND issuance_date > '2011-01-01T00:00')\"\n",
    "    \"&filing_status=INITIAL\"\n",
    ")\n",
    "dates = ['filing_date', 'issuance_date']\n",
    "permit = get_resource(resource, query, dates)"
   ]
  },
  {
   "cell_type": "code",
   "execution_count": 61,
   "metadata": {},
   "outputs": [],
   "source": [
    "permit.reset_index(inplace=True)\n",
    "permit.to_feather('permit.feather')"
   ]
  },
  {
   "cell_type": "markdown",
   "metadata": {},
   "source": [
    "Get [job application](https://data.cityofnewyork.us/Housing-Development/DOB-Job-Application-Filings/ic3t-wcy2?category=Housing-Development&view_name=DOB-Job-Application-Filings) filings potentially revelant to sustainability"
   ]
  },
  {
   "cell_type": "code",
   "execution_count": 58,
   "metadata": {},
   "outputs": [],
   "source": [
    "resource = 'ic3t-wcy2'\n",
    "query = \"$where=(boiler='X' OR fuel_burning='X' OR fuel_storage='X' OR other='X')\"\n",
    "dates = ['latest_action_date', 'assigned', 'approved', 'fully_permitted']\n",
    "job = get_resource(resource, query, dates)"
   ]
  },
  {
   "cell_type": "code",
   "execution_count": 62,
   "metadata": {},
   "outputs": [],
   "source": [
    "job.reset_index(inplace=True)\n",
    "job.to_feather('job.feather')"
   ]
  },
  {
   "cell_type": "markdown",
   "metadata": {},
   "source": [
    "Get energy [benchmark data](https://data.cityofnewyork.us/Environment/Energy-and-Water-Data-Disclosure-for-Local-Law-84-/qb3v-bbre) (LL84) for electricity consumption and energy star scores (TBD if we'll use this)"
   ]
  },
  {
   "cell_type": "code",
   "execution_count": 50,
   "metadata": {
    "tags": []
   },
   "outputs": [
    {
     "name": "stdout",
     "output_type": "stream",
     "text": [
      "getting 2011 data\n",
      "getting 2012 data\n",
      "getting 2013 data\n",
      "getting 2014 data\n",
      "getting 2015 data\n",
      "getting 2016 data\n",
      "getting 2017 data\n",
      "getting 2018 data\n"
     ]
    }
   ],
   "source": [
    "resources = ['q39e-7gbs', '5gde-fmj3', 'rgfe-8y2z', 'jzst-u7j8', 'hypw-js3b', '8u86-bviy', 'n2mv-q2ia', 'vdzd-yy49', 'qb3v-bbre']\n",
    "years = np.arange(2011, 2019)\n",
    "\n",
    "benchmark = []\n",
    "for resource, year in zip(resources, years):\n",
    "    print(f'getting {year} data')\n",
    "    bench = get_resource(resource)\n",
    "    bench['year'] = year\n",
    "    benchmark.append(bench)\n",
    "benchmark = pd.concat(benchmark)"
   ]
  },
  {
   "cell_type": "code",
   "execution_count": 63,
   "metadata": {},
   "outputs": [],
   "source": [
    "benchmark.reset_index(inplace=True)\n",
    "benchmark.to_feather('benchmark.feather')"
   ]
  },
  {
   "cell_type": "code",
   "execution_count": 108,
   "metadata": {},
   "outputs": [],
   "source": [
    "# permit = pd.read_feather('permit.feather')\n",
    "# job = pd.read_feather('job.feather')"
   ]
  },
  {
   "cell_type": "markdown",
   "metadata": {},
   "source": [
    "Exploratory analysis"
   ]
  },
  {
   "cell_type": "code",
   "execution_count": 111,
   "metadata": {},
   "outputs": [
    {
     "data": {
      "text/plain": [
       "1082723"
      ]
     },
     "execution_count": 111,
     "metadata": {},
     "output_type": "execute_result"
    }
   ],
   "source": [
    "len(job)"
   ]
  },
  {
   "cell_type": "code",
   "execution_count": 82,
   "metadata": {},
   "outputs": [
    {
     "data": {
      "text/plain": [
       "0    Apartment renovation work to include partition...\n",
       "1     Herewith filing alteration type 1 to change use.\n",
       "2                     FILING HEREWITH, STRUCTURAL WORK\n",
       "3    SOE DRAWINGS FILED IN CONJUNCTION WITH NEW BUI...\n",
       "4    Partitions to create offices.  New 15 ton HVAC...\n",
       "5    CREATE NEW ELEVATOR SHAFT, NEW TOILET ROOMS AN...\n",
       "6    FILING TO DO MINOR INTERIOR RENOVATION.NO CHAN...\n",
       "7    NO CHANGE IN USE, EGRESS OR OCCUPANCYREMOVE AN...\n",
       "8    Exterior facade and roof level repairs. NO CHA...\n",
       "9                                                  NaN\n",
       "Name: job_description, dtype: object"
      ]
     },
     "execution_count": 82,
     "metadata": {},
     "output_type": "execute_result"
    }
   ],
   "source": [
    "job['job_description'][:10]"
   ]
  },
  {
   "cell_type": "code",
   "execution_count": null,
   "metadata": {},
   "outputs": [],
   "source": [
    "job_count = job.groupby('bin__').size().sort_values()"
   ]
  },
  {
   "cell_type": "code",
   "execution_count": 76,
   "metadata": {},
   "outputs": [
    {
     "data": {
      "text/plain": [
       "<AxesSubplot:ylabel='Frequency'>"
      ]
     },
     "execution_count": 76,
     "metadata": {},
     "output_type": "execute_result"
    },
    {
     "data": {
      "image/png": "[encoded data removed]",
      "text/plain": [
       "<Figure size 432x288 with 1 Axes>"
      ]
     },
     "metadata": {
      "needs_background": "light"
     },
     "output_type": "display_data"
    }
   ],
   "source": [
    "job_count[job_count < 100].plot.hist(bins=100)"
   ]
  },
  {
   "cell_type": "code",
   "execution_count": 86,
   "metadata": {},
   "outputs": [
    {
     "data": {
      "text/plain": [
       "bin__\n",
       "3000889    3\n",
       "2005885    3\n",
       "4579819    3\n",
       "dtype: int64"
      ]
     },
     "execution_count": 86,
     "metadata": {},
     "output_type": "execute_result"
    }
   ],
   "source": [
    "job_count[job_count == 3][:3]"
   ]
  },
  {
   "cell_type": "code",
   "execution_count": 103,
   "metadata": {},
   "outputs": [
    {
     "data": {
      "text/html": [
       "<div>\n",
       "<style scoped>\n",
       "    .dataframe tbody tr th:only-of-type {\n",
       "        vertical-align: middle;\n",
       "    }\n",
       "\n",
       "    .dataframe tbody tr th {\n",
       "        vertical-align: top;\n",
       "    }\n",
       "\n",
       "    .dataframe thead th {\n",
       "        text-align: right;\n",
       "    }\n",
       "</style>\n",
       "<table border=\"1\" class=\"dataframe\">\n",
       "  <thead>\n",
       "    <tr style=\"text-align: right;\">\n",
       "      <th></th>\n",
       "      <th>job__</th>\n",
       "      <th>job_description</th>\n",
       "      <th>building_type</th>\n",
       "      <th>other</th>\n",
       "      <th>other_description</th>\n",
       "    </tr>\n",
       "  </thead>\n",
       "  <tbody>\n",
       "    <tr>\n",
       "      <th>655671</th>\n",
       "      <td>310305336</td>\n",
       "      <td>NaN</td>\n",
       "      <td>OTHERS</td>\n",
       "      <td>X</td>\n",
       "      <td>NO WORK</td>\n",
       "    </tr>\n",
       "    <tr>\n",
       "      <th>655889</th>\n",
       "      <td>320548136</td>\n",
       "      <td>OFFICE RENOVATION: CELLAR, 1ST FLOOR &amp; ROOF: N...</td>\n",
       "      <td>OTHERS</td>\n",
       "      <td>X</td>\n",
       "      <td>GEN. CONSTR.</td>\n",
       "    </tr>\n",
       "    <tr>\n",
       "      <th>1041972</th>\n",
       "      <td>301370219</td>\n",
       "      <td>Building Paving Plan filing in conjunction wit...</td>\n",
       "      <td>OTHERS</td>\n",
       "      <td>X</td>\n",
       "      <td>BPP</td>\n",
       "    </tr>\n",
       "  </tbody>\n",
       "</table>\n",
       "</div>"
      ],
      "text/plain": [
       "             job__                                    job_description  \\\n",
       "655671   310305336                                                NaN   \n",
       "655889   320548136  OFFICE RENOVATION: CELLAR, 1ST FLOOR & ROOF: N...   \n",
       "1041972  301370219  Building Paving Plan filing in conjunction wit...   \n",
       "\n",
       "        building_type other other_description  \n",
       "655671         OTHERS     X           NO WORK  \n",
       "655889         OTHERS     X      GEN. CONSTR.  \n",
       "1041972        OTHERS     X               BPP  "
      ]
     },
     "execution_count": 103,
     "metadata": {},
     "output_type": "execute_result"
    }
   ],
   "source": [
    "job.loc[job['bin__'] == '3000889', ['job__', 'job_description', 'building_type', 'other', 'other_description']]"
   ]
  },
  {
   "cell_type": "code",
   "execution_count": 109,
   "metadata": {},
   "outputs": [
    {
     "data": {
      "text/html": [
       "<div>\n",
       "<style scoped>\n",
       "    .dataframe tbody tr th:only-of-type {\n",
       "        vertical-align: middle;\n",
       "    }\n",
       "\n",
       "    .dataframe tbody tr th {\n",
       "        vertical-align: top;\n",
       "    }\n",
       "\n",
       "    .dataframe thead th {\n",
       "        text-align: right;\n",
       "    }\n",
       "</style>\n",
       "<table border=\"1\" class=\"dataframe\">\n",
       "  <thead>\n",
       "    <tr style=\"text-align: right;\">\n",
       "      <th></th>\n",
       "      <th>job__</th>\n",
       "      <th>permit_subtype</th>\n",
       "      <th>work_type</th>\n",
       "    </tr>\n",
       "  </thead>\n",
       "  <tbody>\n",
       "    <tr>\n",
       "      <th>23702</th>\n",
       "      <td>320548136</td>\n",
       "      <td>MH</td>\n",
       "      <td>MH</td>\n",
       "    </tr>\n",
       "    <tr>\n",
       "      <th>214593</th>\n",
       "      <td>320548136</td>\n",
       "      <td>OT</td>\n",
       "      <td>OT</td>\n",
       "    </tr>\n",
       "  </tbody>\n",
       "</table>\n",
       "</div>"
      ],
      "text/plain": [
       "            job__ permit_subtype work_type\n",
       "23702   320548136             MH        MH\n",
       "214593  320548136             OT        OT"
      ]
     },
     "execution_count": 109,
     "metadata": {},
     "output_type": "execute_result"
    }
   ],
   "source": [
    "permit.loc[permit['bin__'] == '3000889', ['job__', 'permit_subtype', 'work_type']]"
   ]
  },
  {
   "cell_type": "code",
   "execution_count": 100,
   "metadata": {},
   "outputs": [
    {
     "data": {
      "text/plain": [
       "'OFFICE RENOVATION: CELLAR, 1ST FLOOR & ROOF: NEW PARTITIONS, CARPENTRY, FINISHES, NEW SKYLIGHTS, PLUMBING FIXTURES, DUCTWORK.'"
      ]
     },
     "execution_count": 100,
     "metadata": {},
     "output_type": "execute_result"
    }
   ],
   "source": [
    "job.loc[655889, 'job_description']"
   ]
  }
 ],
 "metadata": {
  "kernelspec": {
   "display_name": "Python 3",
   "language": "python",
   "name": "python3"
  },
  "language_info": {
   "codemirror_mode": {
    "name": "ipython",
    "version": 3
   },
   "file_extension": ".py",
   "mimetype": "text/x-python",
   "name": "python",
   "nbconvert_exporter": "python",
   "pygments_lexer": "ipython3",
   "version": "3.8.5"
  }
 },
 "nbformat": 4,
 "nbformat_minor": 2
}
