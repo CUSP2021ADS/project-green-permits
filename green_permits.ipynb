{
 "cells": [
  {
   "cell_type": "markdown",
   "metadata": {},
   "source": [
    "### Speed of NYC Permit Approval for Green Retrofits of Small Buildings\n",
    "#### Data Exploration"
   ]
  },
  {
   "cell_type": "markdown",
   "metadata": {},
   "source": [
    "Setup"
   ]
  },
  {
   "cell_type": "code",
   "execution_count": 1,
   "metadata": {},
   "outputs": [],
   "source": [
    "from glob import glob\n",
    "import pandas as pd\n",
    "import numpy as np\n",
    "import requests\n",
    "import matplotlib.pyplot as plt\n",
    "import geopandas as gpd"
   ]
  },
  {
   "cell_type": "markdown",
   "metadata": {},
   "source": [
    "Define Socrata API handler to page through JSON data"
   ]
  },
  {
   "cell_type": "code",
   "execution_count": 2,
   "metadata": {},
   "outputs": [],
   "source": [
    "def get_resource(resource, query='', dates=[], limit=1000, progress=False):\n",
    "    headers = {'X-App-Token': 'b0nu5h6f5RSJRNPajPuuCf7wo'}\n",
    "    result = []\n",
    "    offset = 0\n",
    "    while offset >= 0:\n",
    "        url = f'https://data.cityofnewyork.us/resource/{resource}.json?$limit={limit}&$offset={offset}&$order=:id'\n",
    "        if query != '': #can't use requests params bc of possible $ char\n",
    "            url += f'&{query}'\n",
    "        if (progress):\n",
    "            print(url)\n",
    "        json = requests.get(url, headers=headers).json()\n",
    "        if 'error' in json:\n",
    "            print(json['message'])\n",
    "            return\n",
    "        else:\n",
    "            df = pd.DataFrame(json)\n",
    "            if len(df):\n",
    "                if len(dates):\n",
    "                    df[dates] = df[dates].apply(pd.to_datetime, errors='coerce')\n",
    "                result.append(df)\n",
    "                offset += limit\n",
    "            else:\n",
    "                offset = -1\n",
    "\n",
    "    result = pd.concat(result).reset_index() if len(result) else pd.DataFrame()\n",
    "    print(f'Retreived {len(result)} records')\n",
    "    return result"
   ]
  },
  {
   "cell_type": "markdown",
   "metadata": {},
   "source": [
    "Get [job application](https://data.cityofnewyork.us/Housing-Development/DOB-Job-Application-Filings/ic3t-wcy2?category=Housing-Development&view_name=DOB-Job-Application-Filings) A2-3 filings (non occupancy/egress alterations)"
   ]
  },
  {
   "cell_type": "code",
   "execution_count": 3,
   "metadata": {},
   "outputs": [
    {
     "output_type": "stream",
     "name": "stdout",
     "text": [
      "Retreived 1285131 records\n"
     ]
    }
   ],
   "source": [
    "resource = 'ic3t-wcy2'\n",
    "query = \"$where=job_type IN ('A2', 'A3') AND job_status IN ('P', 'Q', 'R', 'X') AND job_description != ''\"\n",
    "dates = ['latest_action_date', 'assigned', 'approved', 'fully_permitted']\n",
    "job = get_resource(resource, query, dates)"
   ]
  },
  {
   "cell_type": "code",
   "execution_count": 4,
   "metadata": {},
   "outputs": [],
   "source": [
    "job.to_feather('job.feather')"
   ]
  },
  {
   "cell_type": "code",
   "execution_count": 2,
   "metadata": {},
   "outputs": [
    {
     "output_type": "execute_result",
     "data": {
      "text/plain": [
       "Index(['index', 'job__', 'doc__', 'borough', 'house__', 'street_name', 'block',\n",
       "       'lot', 'bin__', 'job_type', 'job_status', 'job_status_descrp',\n",
       "       'latest_action_date', 'building_type', 'community___board',\n",
       "       'landmarked', 'adult_estab', 'pc_filed', 'plumbing', 'mechanical',\n",
       "       'applicant_s_first_name', 'applicant_s_last_name',\n",
       "       'applicant_professional_title', 'applicant_license__',\n",
       "       'professional_cert', 'pre__filing_date', 'paid', 'fully_paid',\n",
       "       'initial_cost', 'total_est__fee', 'fee_status', 'existing_zoning_sqft',\n",
       "       'proposed_zoning_sqft', 'enlargement_sq_footage', 'street_frontage',\n",
       "       'existingno_of_stories', 'proposed_no_of_stories', 'existing_height',\n",
       "       'proposed_height', 'proposed_dwelling_units', 'site_fill', 'owner_type',\n",
       "       'non_profit', 'owner_s_first_name', 'owner_s_last_name',\n",
       "       'owner_s_business_name', 'owner_s_house_number',\n",
       "       'owner_shouse_street_name', 'city_', 'state', 'zip', 'owner_sphone__',\n",
       "       'job_description', 'dobrundate', 'job_s1_no',\n",
       "       'total_construction_floor_area', 'withdrawal_flag', 'signoff_date',\n",
       "       'special_action_status', 'job_no_good_count', 'gis_latitude',\n",
       "       'gis_longitude', 'gis_council_district', 'gis_census_tract',\n",
       "       'gis_nta_name', 'gis_bin', 'other', 'other_description', 'approved',\n",
       "       'fully_permitted', 'existing_occupancy', 'zoning_dist1', 'loft_board',\n",
       "       'sprinkler', 'assigned', 'fire_alarm', 'equipment',\n",
       "       'special_action_date', 'building_class', 'cluster', 'little_e',\n",
       "       'efiling_filed', 'proposed_occupancy', 'special_district_1',\n",
       "       'special_district_2', 'boiler', 'existing_dwelling_units',\n",
       "       'fire_suppression', 'horizontal_enlrgmt', 'city_owned', 'zoning_dist2',\n",
       "       'standpipe', 'zoning_dist3', 'fuel_burning', 'fuel_storage', 'curb_cut',\n",
       "       'vertical_enlrgmt'],\n",
       "      dtype='object')"
      ]
     },
     "metadata": {},
     "execution_count": 2
    }
   ],
   "source": [
    "job = pd.read_feather('job.feather')\n",
    "job.columns"
   ]
  },
  {
   "cell_type": "code",
   "execution_count": 10,
   "metadata": {},
   "outputs": [
    {
     "output_type": "stream",
     "name": "stdout",
     "text": [
      "INSTALLATION OF ROOF MOUNTED SOLAR. NO CHANGE IN USE, EGRESS, OR OCCUPANCY.\nROOFTOP SOLAR PANEL INSTALLATION\nINSTALLATION OF SOLAR PANELS ON EXISTING ROOF STRUCTURE. NO CHANGE IN EGRESS, USE, OR OCCUPANCY\nINSTALLATION OF A ROOFTOP RAILLESS SOLAR PV PANEL SYSTEM\nFILLING HEREWITH TAX ABATEMENT APPLICATION FOR INSTALLATION OF ROOF MOUNTED SOLAR PANELS. NO CHANGE IN USE, EGRESS OR OCCUPANCY.\nINSTALLATION OF A ROOFTOP RAILLESS SOLAR PV PANEL SYSTEM\nINSTALLATION OF SOLAR PANELS ON ROOFTOP. NO CHANGE IN USE, EGRESS, OR OCCUPANCY.\nINSTALLATION OF SOLAR PANELS ON EXISTING ROOF. NO CHANGE IN USE, OCCUPANCY,  OR EGRESS. NO CHANGE IN BULK.\nINSTALLATION OF SOLAR PANELS ON EXISTING ROOF. NO CHANGE IN USE, OCCUPANCY,  OR EGRESS. NO CHANGE IN BULK.\nINSTALLATION OF SOLAR SYSTEM AS PER PLANS.NO CHANGE IN USE,EGRESS, OR OCCUPANCY\n"
     ]
    }
   ],
   "source": [
    "job['solar_jobs'] = job['job_description'].str.lower().apply(lambda x: 'solar' in x)\n",
    "_ = [print(desc) for desc in job.loc[job['solar_jobs'], 'job_description'][:10]]"
   ]
  },
  {
   "cell_type": "code",
   "execution_count": 35,
   "metadata": {},
   "outputs": [],
   "source": [
    "job_bin = job.groupby('bin__').agg({'approved': 'max', 'solar_jobs': 'sum'}).reset_index()"
   ]
  },
  {
   "cell_type": "code",
   "execution_count": 12,
   "metadata": {},
   "outputs": [
    {
     "output_type": "execute_result",
     "data": {
      "text/plain": [
       "Index(['borough', 'block', 'lot', 'cd', 'ct2010', 'cb2010', 'schooldist',\n",
       "       'council', 'zipcode', 'firecomp', 'policeprct', 'healthcenterdistrict',\n",
       "       'healtharea', 'sanitboro', 'sanitdistrict', 'sanitsub', 'address',\n",
       "       'zonedist1', 'zonedist2', 'zonedist3', 'zonedist4', 'overlay1',\n",
       "       'overlay2', 'spdist1', 'spdist2', 'spdist3', 'ltdheight', 'splitzone',\n",
       "       'bldgclass', 'landuse', 'easements', 'ownertype', 'ownername',\n",
       "       'lotarea', 'bldgarea', 'comarea', 'resarea', 'officearea', 'retailarea',\n",
       "       'garagearea', 'strgearea', 'factryarea', 'otherarea', 'areasource',\n",
       "       'numbldgs', 'numfloors', 'unitsres', 'unitstotal', 'lotfront',\n",
       "       'lotdepth', 'bldgfront', 'bldgdepth', 'ext', 'proxcode', 'irrlotcode',\n",
       "       'lottype', 'bsmtcode', 'assessland', 'assesstot', 'exempttot',\n",
       "       'yearbuilt', 'yearalter1', 'yearalter2', 'histdist', 'landmark',\n",
       "       'builtfar', 'residfar', 'commfar', 'facilfar', 'borocode', 'bbl',\n",
       "       'condono', 'tract2010', 'xcoord', 'ycoord', 'zonemap', 'zmcode',\n",
       "       'sanborn', 'taxmap', 'edesignum', 'appbbl', 'appdate', 'plutomapid',\n",
       "       'firm07_flag', 'pfirm15_flag', 'version', 'dcpedited', 'latitude',\n",
       "       'longitude', 'notes'],\n",
       "      dtype='object')"
      ]
     },
     "metadata": {},
     "execution_count": 12
    }
   ],
   "source": [
    "pluto = pd.read_csv('pluto_21v1.csv', low_memory=False)\n",
    "pluto.columns"
   ]
  },
  {
   "cell_type": "code",
   "execution_count": 39,
   "metadata": {},
   "outputs": [],
   "source": [
    "vals = ['assesstot', 'exempttot', 'numfloors', 'bldgarea', 'comarea', 'resarea']  #pluto is by BBL, spread these values across each BIN\n",
    "cols = ['bbl', 'latitude', 'longitude', 'numbldgs', 'yearbuilt', 'yearalter1', 'yearalter2', 'landuse', *vals]\n",
    "\n",
    "pluto_sub = pluto.loc[(pluto['numbldgs'].between(1, 2)) & (pluto['yearbuilt'] != 0) & (pluto['landuse'] < 9) & (pluto['landmark'].isnull()), cols]\n",
    "pluto_sub[vals] = pluto_sub[vals].apply(lambda x: x / pluto_sub['numbldgs'])"
   ]
  },
  {
   "cell_type": "code",
   "execution_count": 38,
   "metadata": {},
   "outputs": [
    {
     "output_type": "execute_result",
     "data": {
      "text/plain": [
       "       base_bbl        bin  cnstrct_yr   doitt_id  feat_code  geomsource  \\\n",
       "0  3.000410e+09  3000095.0      1900.0   314181.0     2100.0  Other (Man   \n",
       "1  3.000430e+09  3255594.0      1841.0   135467.0     2100.0  Photogramm   \n",
       "2  3.001820e+09  3428624.0      2018.0  1288560.0     2100.0  Other (Man   \n",
       "3  3.003960e+09  3006349.0      1899.0    34866.0     2100.0  Photogramm   \n",
       "4  3.001340e+09  3420828.0      2013.0  1263693.0     2100.0  Other (Man   \n",
       "\n",
       "   groundelev  heightroof  date_lstmo    time_lstmo   lststatype  \\\n",
       "0        33.0       63.00  2017/08/22  00:00:00.000  Constructed   \n",
       "1        34.0       33.75  2020/01/28  00:00:00.000  Constructed   \n",
       "2        30.0         NaN  2019/11/26  00:00:00.000  Constructed   \n",
       "3        34.0       35.74  2017/08/22  00:00:00.000  Constructed   \n",
       "4        25.0      396.00  2017/08/22  00:00:00.000  Constructed   \n",
       "\n",
       "     mpluto_bbl name    shape_area   shape_len   _count          _sum  \\\n",
       "0  3.000410e+09  NaN  41010.405199  893.931165  41015.0  30535.053206   \n",
       "1  3.000430e+09  NaN    892.654266  120.752952    894.0    657.804927   \n",
       "2  3.001820e+09  NaN   3135.289427  225.818806   3135.0   1029.700555   \n",
       "3  3.003960e+09  NaN    834.392803  136.064926    836.0    594.515018   \n",
       "4  3.001340e+09  NaN  15285.423660  538.032966  15277.0   6430.407424   \n",
       "\n",
       "      _mean  \n",
       "0  0.744485  \n",
       "1  0.735800  \n",
       "2  0.328453  \n",
       "3  0.711142  \n",
       "4  0.420921  "
      ],
      "text/html": "<div>\n<style scoped>\n    .dataframe tbody tr th:only-of-type {\n        vertical-align: middle;\n    }\n\n    .dataframe tbody tr th {\n        vertical-align: top;\n    }\n\n    .dataframe thead th {\n        text-align: right;\n    }\n</style>\n<table border=\"1\" class=\"dataframe\">\n  <thead>\n    <tr style=\"text-align: right;\">\n      <th></th>\n      <th>base_bbl</th>\n      <th>bin</th>\n      <th>cnstrct_yr</th>\n      <th>doitt_id</th>\n      <th>feat_code</th>\n      <th>geomsource</th>\n      <th>groundelev</th>\n      <th>heightroof</th>\n      <th>date_lstmo</th>\n      <th>time_lstmo</th>\n      <th>lststatype</th>\n      <th>mpluto_bbl</th>\n      <th>name</th>\n      <th>shape_area</th>\n      <th>shape_len</th>\n      <th>_count</th>\n      <th>_sum</th>\n      <th>_mean</th>\n    </tr>\n  </thead>\n  <tbody>\n    <tr>\n      <th>0</th>\n      <td>3.000410e+09</td>\n      <td>3000095.0</td>\n      <td>1900.0</td>\n      <td>314181.0</td>\n      <td>2100.0</td>\n      <td>Other (Man</td>\n      <td>33.0</td>\n      <td>63.00</td>\n      <td>2017/08/22</td>\n      <td>00:00:00.000</td>\n      <td>Constructed</td>\n      <td>3.000410e+09</td>\n      <td>NaN</td>\n      <td>41010.405199</td>\n      <td>893.931165</td>\n      <td>41015.0</td>\n      <td>30535.053206</td>\n      <td>0.744485</td>\n    </tr>\n    <tr>\n      <th>1</th>\n      <td>3.000430e+09</td>\n      <td>3255594.0</td>\n      <td>1841.0</td>\n      <td>135467.0</td>\n      <td>2100.0</td>\n      <td>Photogramm</td>\n      <td>34.0</td>\n      <td>33.75</td>\n      <td>2020/01/28</td>\n      <td>00:00:00.000</td>\n      <td>Constructed</td>\n      <td>3.000430e+09</td>\n      <td>NaN</td>\n      <td>892.654266</td>\n      <td>120.752952</td>\n      <td>894.0</td>\n      <td>657.804927</td>\n      <td>0.735800</td>\n    </tr>\n    <tr>\n      <th>2</th>\n      <td>3.001820e+09</td>\n      <td>3428624.0</td>\n      <td>2018.0</td>\n      <td>1288560.0</td>\n      <td>2100.0</td>\n      <td>Other (Man</td>\n      <td>30.0</td>\n      <td>NaN</td>\n      <td>2019/11/26</td>\n      <td>00:00:00.000</td>\n      <td>Constructed</td>\n      <td>3.001820e+09</td>\n      <td>NaN</td>\n      <td>3135.289427</td>\n      <td>225.818806</td>\n      <td>3135.0</td>\n      <td>1029.700555</td>\n      <td>0.328453</td>\n    </tr>\n    <tr>\n      <th>3</th>\n      <td>3.003960e+09</td>\n      <td>3006349.0</td>\n      <td>1899.0</td>\n      <td>34866.0</td>\n      <td>2100.0</td>\n      <td>Photogramm</td>\n      <td>34.0</td>\n      <td>35.74</td>\n      <td>2017/08/22</td>\n      <td>00:00:00.000</td>\n      <td>Constructed</td>\n      <td>3.003960e+09</td>\n      <td>NaN</td>\n      <td>834.392803</td>\n      <td>136.064926</td>\n      <td>836.0</td>\n      <td>594.515018</td>\n      <td>0.711142</td>\n    </tr>\n    <tr>\n      <th>4</th>\n      <td>3.001340e+09</td>\n      <td>3420828.0</td>\n      <td>2013.0</td>\n      <td>1263693.0</td>\n      <td>2100.0</td>\n      <td>Other (Man</td>\n      <td>25.0</td>\n      <td>396.00</td>\n      <td>2017/08/22</td>\n      <td>00:00:00.000</td>\n      <td>Constructed</td>\n      <td>3.001340e+09</td>\n      <td>NaN</td>\n      <td>15285.423660</td>\n      <td>538.032966</td>\n      <td>15277.0</td>\n      <td>6430.407424</td>\n      <td>0.420921</td>\n    </tr>\n  </tbody>\n</table>\n</div>"
     },
     "metadata": {},
     "execution_count": 38
    }
   ],
   "source": [
    "build = pd.concat([pd.read_csv(file, low_memory=False) for file in glob('stats/*')])\n",
    "build.head()"
   ]
  },
  {
   "cell_type": "code",
   "execution_count": 45,
   "metadata": {},
   "outputs": [],
   "source": [
    "build_bin = build.groupby('bin')[['mpluto_bbl', 'shape_area', '_mean']].min().reset_index()\n",
    "build_bin.rename(columns={'_mean': 'svf'}, inplace=True)"
   ]
  },
  {
   "cell_type": "code",
   "execution_count": 46,
   "metadata": {},
   "outputs": [
    {
     "output_type": "execute_result",
     "data": {
      "text/plain": [
       "              bin    mpluto_bbl    shape_area       svf           bbl  \\\n",
       "0       1290422.0  3.040880e+09   1393.438325  0.684443  3.040880e+09   \n",
       "1       3000002.0  3.000010e+09  17683.475106  0.769877  3.000010e+09   \n",
       "2       3000007.0  3.000070e+09   8192.772710  0.730845  3.000070e+09   \n",
       "3       3000010.0  3.000190e+09  43459.105586  0.729904  3.000190e+09   \n",
       "4       3000011.0  3.000200e+09  19246.260335  0.827548  3.000200e+09   \n",
       "...           ...           ...           ...       ...           ...   \n",
       "315658  3428902.0  3.025310e+09   3246.916546  0.711528  3.025310e+09   \n",
       "315659  3428938.0  3.024720e+09  25214.834473  0.759847  3.024720e+09   \n",
       "315660  3435471.0  3.025418e+09   1626.362731  0.571410  3.025418e+09   \n",
       "315661  3435998.0  3.065840e+09   1781.059044  0.697304  3.065840e+09   \n",
       "315662  4437699.0  4.034100e+09   4301.840558  0.950171  4.034100e+09   \n",
       "\n",
       "         latitude  longitude  numbldgs  yearbuilt  yearalter1  yearalter2  \\\n",
       "0       40.665415 -73.888027       1.0     2016.0         0.0         0.0   \n",
       "1       40.704620 -73.987059       1.0     1898.0      1994.0      2015.0   \n",
       "2       40.704110 -73.989303       1.0     1988.0         0.0         0.0   \n",
       "3       40.704102 -73.987070       1.0     1909.0      1999.0         0.0   \n",
       "4       40.703975 -73.986197       1.0     1977.0      2012.0         0.0   \n",
       "...           ...        ...       ...        ...         ...         ...   \n",
       "315658  40.731988 -73.959329       1.0     2017.0      2016.0         0.0   \n",
       "315659  40.736426 -73.959568       1.0     2018.0      2015.0         0.0   \n",
       "315660  40.732314 -73.952415       1.0     2012.0         0.0         0.0   \n",
       "315661  40.613686 -73.972090       1.0     1930.0      2014.0      2014.0   \n",
       "315662  40.712272 -73.921805       1.0     1931.0         0.0         0.0   \n",
       "\n",
       "        landuse   assesstot  exempttot  numfloors  bldgarea   comarea  \\\n",
       "0           2.0    385650.0   383877.0       4.00    5492.0       0.0   \n",
       "1           5.0  17318250.0        0.0      10.00  170493.0  163894.0   \n",
       "2           8.0    371250.0   371250.0       1.00    9585.0    9585.0   \n",
       "3           5.0  30760650.0  2922885.0      11.00  500000.0  500000.0   \n",
       "4           5.0   1474200.0        0.0       1.00   21735.0   21735.0   \n",
       "...         ...         ...        ...        ...       ...       ...   \n",
       "315658      4.0    601650.0        0.0       7.00    8982.0     602.0   \n",
       "315659      4.0  36553950.0        0.0      39.00  448412.0   70020.0   \n",
       "315660      2.0    918452.0   840513.0       6.00    9323.0       0.0   \n",
       "315661      1.0    163620.0        0.0       2.75    3838.0       0.0   \n",
       "315662      6.0    463950.0        0.0       1.00   16400.0   16400.0   \n",
       "\n",
       "         resarea   approved  some_solar  \n",
       "0         5205.0        NaT       False  \n",
       "1            0.0 2020-07-22       False  \n",
       "2            0.0 2014-09-05       False  \n",
       "3            0.0 2020-03-06       False  \n",
       "4            0.0 2016-10-03       False  \n",
       "...          ...        ...         ...  \n",
       "315658    8380.0 2021-02-16       False  \n",
       "315659  378392.0 2020-08-03       False  \n",
       "315660    9323.0        NaT       False  \n",
       "315661    3838.0        NaT       False  \n",
       "315662       0.0 2013-12-26       False  \n",
       "\n",
       "[315663 rows x 20 columns]"
      ],
      "text/html": "<div>\n<style scoped>\n    .dataframe tbody tr th:only-of-type {\n        vertical-align: middle;\n    }\n\n    .dataframe tbody tr th {\n        vertical-align: top;\n    }\n\n    .dataframe thead th {\n        text-align: right;\n    }\n</style>\n<table border=\"1\" class=\"dataframe\">\n  <thead>\n    <tr style=\"text-align: right;\">\n      <th></th>\n      <th>bin</th>\n      <th>mpluto_bbl</th>\n      <th>shape_area</th>\n      <th>svf</th>\n      <th>bbl</th>\n      <th>latitude</th>\n      <th>longitude</th>\n      <th>numbldgs</th>\n      <th>yearbuilt</th>\n      <th>yearalter1</th>\n      <th>yearalter2</th>\n      <th>landuse</th>\n      <th>assesstot</th>\n      <th>exempttot</th>\n      <th>numfloors</th>\n      <th>bldgarea</th>\n      <th>comarea</th>\n      <th>resarea</th>\n      <th>approved</th>\n      <th>some_solar</th>\n    </tr>\n  </thead>\n  <tbody>\n    <tr>\n      <th>0</th>\n      <td>1290422.0</td>\n      <td>3.040880e+09</td>\n      <td>1393.438325</td>\n      <td>0.684443</td>\n      <td>3.040880e+09</td>\n      <td>40.665415</td>\n      <td>-73.888027</td>\n      <td>1.0</td>\n      <td>2016.0</td>\n      <td>0.0</td>\n      <td>0.0</td>\n      <td>2.0</td>\n      <td>385650.0</td>\n      <td>383877.0</td>\n      <td>4.00</td>\n      <td>5492.0</td>\n      <td>0.0</td>\n      <td>5205.0</td>\n      <td>NaT</td>\n      <td>False</td>\n    </tr>\n    <tr>\n      <th>1</th>\n      <td>3000002.0</td>\n      <td>3.000010e+09</td>\n      <td>17683.475106</td>\n      <td>0.769877</td>\n      <td>3.000010e+09</td>\n      <td>40.704620</td>\n      <td>-73.987059</td>\n      <td>1.0</td>\n      <td>1898.0</td>\n      <td>1994.0</td>\n      <td>2015.0</td>\n      <td>5.0</td>\n      <td>17318250.0</td>\n      <td>0.0</td>\n      <td>10.00</td>\n      <td>170493.0</td>\n      <td>163894.0</td>\n      <td>0.0</td>\n      <td>2020-07-22</td>\n      <td>False</td>\n    </tr>\n    <tr>\n      <th>2</th>\n      <td>3000007.0</td>\n      <td>3.000070e+09</td>\n      <td>8192.772710</td>\n      <td>0.730845</td>\n      <td>3.000070e+09</td>\n      <td>40.704110</td>\n      <td>-73.989303</td>\n      <td>1.0</td>\n      <td>1988.0</td>\n      <td>0.0</td>\n      <td>0.0</td>\n      <td>8.0</td>\n      <td>371250.0</td>\n      <td>371250.0</td>\n      <td>1.00</td>\n      <td>9585.0</td>\n      <td>9585.0</td>\n      <td>0.0</td>\n      <td>2014-09-05</td>\n      <td>False</td>\n    </tr>\n    <tr>\n      <th>3</th>\n      <td>3000010.0</td>\n      <td>3.000190e+09</td>\n      <td>43459.105586</td>\n      <td>0.729904</td>\n      <td>3.000190e+09</td>\n      <td>40.704102</td>\n      <td>-73.987070</td>\n      <td>1.0</td>\n      <td>1909.0</td>\n      <td>1999.0</td>\n      <td>0.0</td>\n      <td>5.0</td>\n      <td>30760650.0</td>\n      <td>2922885.0</td>\n      <td>11.00</td>\n      <td>500000.0</td>\n      <td>500000.0</td>\n      <td>0.0</td>\n      <td>2020-03-06</td>\n      <td>False</td>\n    </tr>\n    <tr>\n      <th>4</th>\n      <td>3000011.0</td>\n      <td>3.000200e+09</td>\n      <td>19246.260335</td>\n      <td>0.827548</td>\n      <td>3.000200e+09</td>\n      <td>40.703975</td>\n      <td>-73.986197</td>\n      <td>1.0</td>\n      <td>1977.0</td>\n      <td>2012.0</td>\n      <td>0.0</td>\n      <td>5.0</td>\n      <td>1474200.0</td>\n      <td>0.0</td>\n      <td>1.00</td>\n      <td>21735.0</td>\n      <td>21735.0</td>\n      <td>0.0</td>\n      <td>2016-10-03</td>\n      <td>False</td>\n    </tr>\n    <tr>\n      <th>...</th>\n      <td>...</td>\n      <td>...</td>\n      <td>...</td>\n      <td>...</td>\n      <td>...</td>\n      <td>...</td>\n      <td>...</td>\n      <td>...</td>\n      <td>...</td>\n      <td>...</td>\n      <td>...</td>\n      <td>...</td>\n      <td>...</td>\n      <td>...</td>\n      <td>...</td>\n      <td>...</td>\n      <td>...</td>\n      <td>...</td>\n      <td>...</td>\n      <td>...</td>\n    </tr>\n    <tr>\n      <th>315658</th>\n      <td>3428902.0</td>\n      <td>3.025310e+09</td>\n      <td>3246.916546</td>\n      <td>0.711528</td>\n      <td>3.025310e+09</td>\n      <td>40.731988</td>\n      <td>-73.959329</td>\n      <td>1.0</td>\n      <td>2017.0</td>\n      <td>2016.0</td>\n      <td>0.0</td>\n      <td>4.0</td>\n      <td>601650.0</td>\n      <td>0.0</td>\n      <td>7.00</td>\n      <td>8982.0</td>\n      <td>602.0</td>\n      <td>8380.0</td>\n      <td>2021-02-16</td>\n      <td>False</td>\n    </tr>\n    <tr>\n      <th>315659</th>\n      <td>3428938.0</td>\n      <td>3.024720e+09</td>\n      <td>25214.834473</td>\n      <td>0.759847</td>\n      <td>3.024720e+09</td>\n      <td>40.736426</td>\n      <td>-73.959568</td>\n      <td>1.0</td>\n      <td>2018.0</td>\n      <td>2015.0</td>\n      <td>0.0</td>\n      <td>4.0</td>\n      <td>36553950.0</td>\n      <td>0.0</td>\n      <td>39.00</td>\n      <td>448412.0</td>\n      <td>70020.0</td>\n      <td>378392.0</td>\n      <td>2020-08-03</td>\n      <td>False</td>\n    </tr>\n    <tr>\n      <th>315660</th>\n      <td>3435471.0</td>\n      <td>3.025418e+09</td>\n      <td>1626.362731</td>\n      <td>0.571410</td>\n      <td>3.025418e+09</td>\n      <td>40.732314</td>\n      <td>-73.952415</td>\n      <td>1.0</td>\n      <td>2012.0</td>\n      <td>0.0</td>\n      <td>0.0</td>\n      <td>2.0</td>\n      <td>918452.0</td>\n      <td>840513.0</td>\n      <td>6.00</td>\n      <td>9323.0</td>\n      <td>0.0</td>\n      <td>9323.0</td>\n      <td>NaT</td>\n      <td>False</td>\n    </tr>\n    <tr>\n      <th>315661</th>\n      <td>3435998.0</td>\n      <td>3.065840e+09</td>\n      <td>1781.059044</td>\n      <td>0.697304</td>\n      <td>3.065840e+09</td>\n      <td>40.613686</td>\n      <td>-73.972090</td>\n      <td>1.0</td>\n      <td>1930.0</td>\n      <td>2014.0</td>\n      <td>2014.0</td>\n      <td>1.0</td>\n      <td>163620.0</td>\n      <td>0.0</td>\n      <td>2.75</td>\n      <td>3838.0</td>\n      <td>0.0</td>\n      <td>3838.0</td>\n      <td>NaT</td>\n      <td>False</td>\n    </tr>\n    <tr>\n      <th>315662</th>\n      <td>4437699.0</td>\n      <td>4.034100e+09</td>\n      <td>4301.840558</td>\n      <td>0.950171</td>\n      <td>4.034100e+09</td>\n      <td>40.712272</td>\n      <td>-73.921805</td>\n      <td>1.0</td>\n      <td>1931.0</td>\n      <td>0.0</td>\n      <td>0.0</td>\n      <td>6.0</td>\n      <td>463950.0</td>\n      <td>0.0</td>\n      <td>1.00</td>\n      <td>16400.0</td>\n      <td>16400.0</td>\n      <td>0.0</td>\n      <td>2013-12-26</td>\n      <td>False</td>\n    </tr>\n  </tbody>\n</table>\n<p>315663 rows × 20 columns</p>\n</div>"
     },
     "metadata": {},
     "execution_count": 46
    }
   ],
   "source": [
    "job_bin['bin'] = job_bin['bin__'].astype(float)\n",
    "\n",
    "full = build_bin.merge(pluto_sub, left_on='mpluto_bbl', right_on='bbl').merge(job_bin, 'left', 'bin')\n",
    "\n",
    "full['some_solar'] = full['solar_jobs'] > 0\n",
    "full.drop(['bin__', 'solar_jobs'], axis=1, inplace=True)\n",
    "full"
   ]
  },
  {
   "cell_type": "code",
   "execution_count": 41,
   "metadata": {},
   "outputs": [
    {
     "output_type": "execute_result",
     "data": {
      "text/plain": [
       "False    309267\n",
       "True       6396\n",
       "Name: some_solar, dtype: int64"
      ]
     },
     "metadata": {},
     "execution_count": 41
    }
   ],
   "source": [
    "full['some_solar'].value_counts()"
   ]
  },
  {
   "cell_type": "code",
   "execution_count": 47,
   "metadata": {},
   "outputs": [],
   "source": [
    "full.to_csv('full.csv')"
   ]
  }
 ],
 "metadata": {
  "kernelspec": {
   "name": "python385jvsc74a57bd097ae724bfa85b9b34df7982b8bb8c7216f435b92902d749e4263f71162bea840",
   "display_name": "Python 3.8.5 64-bit (conda)"
  },
  "language_info": {
   "codemirror_mode": {
    "name": "ipython",
    "version": 3
   },
   "file_extension": ".py",
   "mimetype": "text/x-python",
   "name": "python",
   "nbconvert_exporter": "python",
   "pygments_lexer": "ipython3",
   "version": "3.8.5"
  }
 },
 "nbformat": 4,
 "nbformat_minor": 2
}