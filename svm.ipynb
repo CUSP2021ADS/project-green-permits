{
 "cells": [
  {
   "cell_type": "code",
   "execution_count": 1,
   "id": "liberal-welcome",
   "metadata": {},
   "outputs": [],
   "source": [
    "from glob import glob\n",
    "import pandas as pd\n",
    "import numpy as np\n",
    "import requests\n",
    "\n",
    "from sklearn.model_selection import train_test_split, GridSearchCV\n",
    "from sklearn.metrics import confusion_matrix, recall_score, precision_score, accuracy_score, f1_score,roc_auc_score, plot_roc_curve\n",
    "from sklearn.linear_model import LogisticRegression\n",
    "from sklearn.ensemble import RandomForestClassifier\n",
    "from sklearn import svm\n",
    "from sklearn.utils.class_weight import compute_sample_weight\n",
    "\n",
    "import matplotlib.pyplot as plt\n",
    "import geopandas as gpd"
   ]
  },
  {
   "cell_type": "code",
   "execution_count": 2,
   "id": "allied-veteran",
   "metadata": {},
   "outputs": [],
   "source": [
    "from sklearn.pipeline import Pipeline\n",
    "from sklearn.preprocessing import StandardScaler\n",
    "from sklearn.svm import LinearSVC"
   ]
  },
  {
   "cell_type": "code",
   "execution_count": 3,
   "id": "earlier-gothic",
   "metadata": {},
   "outputs": [
    {
     "data": {
      "text/html": [
       "<div>\n",
       "<style scoped>\n",
       "    .dataframe tbody tr th:only-of-type {\n",
       "        vertical-align: middle;\n",
       "    }\n",
       "\n",
       "    .dataframe tbody tr th {\n",
       "        vertical-align: top;\n",
       "    }\n",
       "\n",
       "    .dataframe thead th {\n",
       "        text-align: right;\n",
       "    }\n",
       "</style>\n",
       "<table border=\"1\" class=\"dataframe\">\n",
       "  <thead>\n",
       "    <tr style=\"text-align: right;\">\n",
       "      <th></th>\n",
       "      <th>bin</th>\n",
       "      <th>roofarea</th>\n",
       "      <th>svf</th>\n",
       "      <th>numbldgs</th>\n",
       "      <th>assesstot</th>\n",
       "      <th>bldgarea</th>\n",
       "      <th>comarea</th>\n",
       "      <th>yearbuilt_1900_1940</th>\n",
       "      <th>yearbuilt_1940_1980</th>\n",
       "      <th>yearbuilt_1980_2000</th>\n",
       "      <th>...</th>\n",
       "      <th>pctUnder18</th>\n",
       "      <th>pctOver62</th>\n",
       "      <th>solar</th>\n",
       "      <th>approved_0_1_block</th>\n",
       "      <th>approved_1_2_block</th>\n",
       "      <th>approved_2_5_block</th>\n",
       "      <th>alter1</th>\n",
       "      <th>alter2</th>\n",
       "      <th>popdensity</th>\n",
       "      <th>noise</th>\n",
       "    </tr>\n",
       "  </thead>\n",
       "  <tbody>\n",
       "    <tr>\n",
       "      <th>0</th>\n",
       "      <td>3000002.0</td>\n",
       "      <td>17683.475106</td>\n",
       "      <td>0.769877</td>\n",
       "      <td>1.0</td>\n",
       "      <td>17318250.0</td>\n",
       "      <td>170493.0</td>\n",
       "      <td>163894.0</td>\n",
       "      <td>0</td>\n",
       "      <td>0</td>\n",
       "      <td>0</td>\n",
       "      <td>...</td>\n",
       "      <td>20.1</td>\n",
       "      <td>3.2</td>\n",
       "      <td>0</td>\n",
       "      <td>0</td>\n",
       "      <td>0</td>\n",
       "      <td>0</td>\n",
       "      <td>1</td>\n",
       "      <td>1</td>\n",
       "      <td>0.000835</td>\n",
       "      <td>1.459135</td>\n",
       "    </tr>\n",
       "    <tr>\n",
       "      <th>1</th>\n",
       "      <td>3413929.0</td>\n",
       "      <td>9431.126565</td>\n",
       "      <td>0.548905</td>\n",
       "      <td>1.0</td>\n",
       "      <td>12383114.0</td>\n",
       "      <td>102534.0</td>\n",
       "      <td>4686.0</td>\n",
       "      <td>0</td>\n",
       "      <td>0</td>\n",
       "      <td>0</td>\n",
       "      <td>...</td>\n",
       "      <td>20.1</td>\n",
       "      <td>3.2</td>\n",
       "      <td>0</td>\n",
       "      <td>0</td>\n",
       "      <td>0</td>\n",
       "      <td>0</td>\n",
       "      <td>0</td>\n",
       "      <td>0</td>\n",
       "      <td>0.000835</td>\n",
       "      <td>1.639049</td>\n",
       "    </tr>\n",
       "    <tr>\n",
       "      <th>2</th>\n",
       "      <td>3000007.0</td>\n",
       "      <td>8192.772710</td>\n",
       "      <td>0.730845</td>\n",
       "      <td>1.0</td>\n",
       "      <td>371250.0</td>\n",
       "      <td>9585.0</td>\n",
       "      <td>9585.0</td>\n",
       "      <td>0</td>\n",
       "      <td>0</td>\n",
       "      <td>1</td>\n",
       "      <td>...</td>\n",
       "      <td>20.1</td>\n",
       "      <td>3.2</td>\n",
       "      <td>0</td>\n",
       "      <td>0</td>\n",
       "      <td>0</td>\n",
       "      <td>0</td>\n",
       "      <td>0</td>\n",
       "      <td>0</td>\n",
       "      <td>0.000835</td>\n",
       "      <td>0.032885</td>\n",
       "    </tr>\n",
       "    <tr>\n",
       "      <th>3</th>\n",
       "      <td>3000010.0</td>\n",
       "      <td>43459.105586</td>\n",
       "      <td>0.729904</td>\n",
       "      <td>1.0</td>\n",
       "      <td>30760650.0</td>\n",
       "      <td>500000.0</td>\n",
       "      <td>500000.0</td>\n",
       "      <td>1</td>\n",
       "      <td>0</td>\n",
       "      <td>0</td>\n",
       "      <td>...</td>\n",
       "      <td>20.1</td>\n",
       "      <td>3.2</td>\n",
       "      <td>0</td>\n",
       "      <td>0</td>\n",
       "      <td>0</td>\n",
       "      <td>0</td>\n",
       "      <td>1</td>\n",
       "      <td>0</td>\n",
       "      <td>0.000835</td>\n",
       "      <td>0.061532</td>\n",
       "    </tr>\n",
       "    <tr>\n",
       "      <th>4</th>\n",
       "      <td>3000011.0</td>\n",
       "      <td>19246.260335</td>\n",
       "      <td>0.827548</td>\n",
       "      <td>1.0</td>\n",
       "      <td>1474200.0</td>\n",
       "      <td>21735.0</td>\n",
       "      <td>21735.0</td>\n",
       "      <td>0</td>\n",
       "      <td>1</td>\n",
       "      <td>0</td>\n",
       "      <td>...</td>\n",
       "      <td>20.1</td>\n",
       "      <td>3.2</td>\n",
       "      <td>0</td>\n",
       "      <td>0</td>\n",
       "      <td>0</td>\n",
       "      <td>0</td>\n",
       "      <td>1</td>\n",
       "      <td>0</td>\n",
       "      <td>0.000835</td>\n",
       "      <td>0.116876</td>\n",
       "    </tr>\n",
       "  </tbody>\n",
       "</table>\n",
       "<p>5 rows × 36 columns</p>\n",
       "</div>"
      ],
      "text/plain": [
       "         bin      roofarea       svf  numbldgs   assesstot  bldgarea  \\\n",
       "0  3000002.0  17683.475106  0.769877       1.0  17318250.0  170493.0   \n",
       "1  3413929.0   9431.126565  0.548905       1.0  12383114.0  102534.0   \n",
       "2  3000007.0   8192.772710  0.730845       1.0    371250.0    9585.0   \n",
       "3  3000010.0  43459.105586  0.729904       1.0  30760650.0  500000.0   \n",
       "4  3000011.0  19246.260335  0.827548       1.0   1474200.0   21735.0   \n",
       "\n",
       "    comarea  yearbuilt_1900_1940  yearbuilt_1940_1980  yearbuilt_1980_2000  \\\n",
       "0  163894.0                    0                    0                    0   \n",
       "1    4686.0                    0                    0                    0   \n",
       "2    9585.0                    0                    0                    1   \n",
       "3  500000.0                    1                    0                    0   \n",
       "4   21735.0                    0                    1                    0   \n",
       "\n",
       "   ...  pctUnder18  pctOver62  solar  approved_0_1_block  approved_1_2_block  \\\n",
       "0  ...        20.1        3.2      0                   0                   0   \n",
       "1  ...        20.1        3.2      0                   0                   0   \n",
       "2  ...        20.1        3.2      0                   0                   0   \n",
       "3  ...        20.1        3.2      0                   0                   0   \n",
       "4  ...        20.1        3.2      0                   0                   0   \n",
       "\n",
       "   approved_2_5_block  alter1  alter2  popdensity     noise  \n",
       "0                   0       1       1    0.000835  1.459135  \n",
       "1                   0       0       0    0.000835  1.639049  \n",
       "2                   0       0       0    0.000835  0.032885  \n",
       "3                   0       1       0    0.000835  0.061532  \n",
       "4                   0       1       0    0.000835  0.116876  \n",
       "\n",
       "[5 rows x 36 columns]"
      ]
     },
     "execution_count": 3,
     "metadata": {},
     "output_type": "execute_result"
    }
   ],
   "source": [
    "full = pd.read_csv('full.csv')\n",
    "full.head()"
   ]
  },
  {
   "cell_type": "code",
   "execution_count": 4,
   "id": "champion-municipality",
   "metadata": {},
   "outputs": [
    {
     "data": {
      "text/plain": [
       "bin                    float64\n",
       "roofarea               float64\n",
       "svf                    float64\n",
       "numbldgs               float64\n",
       "assesstot              float64\n",
       "bldgarea               float64\n",
       "comarea                float64\n",
       "yearbuilt_1900_1940      int64\n",
       "yearbuilt_1940_1980      int64\n",
       "yearbuilt_1980_2000      int64\n",
       "yearbuilt_2000_2010      int64\n",
       "yearbuilt_2010_2015      int64\n",
       "yearbuilt_2015_2020      int64\n",
       "landuse_2.0              int64\n",
       "landuse_3.0              int64\n",
       "landuse_4.0              int64\n",
       "landuse_5.0              int64\n",
       "landuse_6.0              int64\n",
       "landuse_7.0              int64\n",
       "landuse_8.0              int64\n",
       "pctBachelors           float64\n",
       "medianIncome             int64\n",
       "pctWhite               float64\n",
       "pctAfricanAmerican     float64\n",
       "pctAsian               float64\n",
       "pctLatino              float64\n",
       "pctUnder18             float64\n",
       "pctOver62              float64\n",
       "solar                    int64\n",
       "approved_0_1_block       int64\n",
       "approved_1_2_block       int64\n",
       "approved_2_5_block       int64\n",
       "alter1                   int64\n",
       "alter2                   int64\n",
       "popdensity             float64\n",
       "noise                  float64\n",
       "dtype: object"
      ]
     },
     "execution_count": 4,
     "metadata": {},
     "output_type": "execute_result"
    }
   ],
   "source": [
    "full.dtypes"
   ]
  },
  {
   "cell_type": "code",
   "execution_count": 5,
   "id": "undefined-wrist",
   "metadata": {},
   "outputs": [
    {
     "data": {
      "text/plain": [
       "Index(['alter1', 'alter2', 'approved_0_1_block', 'approved_1_2_block',\n",
       "       'approved_2_5_block', 'assesstot', 'bldgarea', 'comarea', 'landuse_2.0',\n",
       "       'landuse_3.0', 'landuse_4.0', 'landuse_5.0', 'landuse_6.0',\n",
       "       'landuse_7.0', 'landuse_8.0', 'medianIncome', 'numbldgs',\n",
       "       'pctAfricanAmerican', 'pctAsian', 'pctBachelors', 'pctLatino',\n",
       "       'pctOver62', 'pctUnder18', 'pctWhite', 'popdensity', 'roofarea', 'svf',\n",
       "       'yearbuilt_1900_1940', 'yearbuilt_1940_1980', 'yearbuilt_1980_2000',\n",
       "       'yearbuilt_2000_2010', 'yearbuilt_2010_2015', 'yearbuilt_2015_2020'],\n",
       "      dtype='object')"
      ]
     },
     "execution_count": 5,
     "metadata": {},
     "output_type": "execute_result"
    }
   ],
   "source": [
    "features = full.columns.difference(['solar','bin','noise'])\n",
    "features"
   ]
  },
  {
   "cell_type": "code",
   "execution_count": 61,
   "id": "korean-relief",
   "metadata": {},
   "outputs": [],
   "source": [
    "X = full[features]\n",
    "y = full['solar']\n",
    "X_train, X_test, y_train, y_test = train_test_split(X, y, stratify=y, test_size = 0.25, random_state=0)\n"
   ]
  },
  {
   "cell_type": "code",
   "execution_count": 62,
   "id": "derived-quality",
   "metadata": {},
   "outputs": [],
   "source": [
    "svm_clf = Pipeline([\n",
    "    (\"scaler\", StandardScaler()),\n",
    "    (\"linear_svc\", LinearSVC(loss=\"hinge\", random_state=42)),\n",
    "])"
   ]
  },
  {
   "cell_type": "code",
   "execution_count": 60,
   "id": "binary-topic",
   "metadata": {},
   "outputs": [
    {
     "data": {
      "text/plain": [
       "False"
      ]
     },
     "execution_count": 60,
     "metadata": {},
     "output_type": "execute_result"
    }
   ],
   "source": [
    "any(x == 1 for x in y_pred)"
   ]
  },
  {
   "cell_type": "code",
   "execution_count": 63,
   "id": "whole-reporter",
   "metadata": {},
   "outputs": [],
   "source": [
    "Cs = [0.001, 0.01, 0.1, 1, 10]"
   ]
  },
  {
   "cell_type": "code",
   "execution_count": 64,
   "id": "three-louisville",
   "metadata": {},
   "outputs": [],
   "source": [
    "# svm_clf.fit(X_train, y_train)"
   ]
  },
  {
   "cell_type": "code",
   "execution_count": 65,
   "id": "finnish-cinema",
   "metadata": {},
   "outputs": [],
   "source": [
    "param_grid = {\n",
    "    'linear_svc__C': Cs\n",
    "}"
   ]
  },
  {
   "cell_type": "code",
   "execution_count": 66,
   "id": "incorporated-offering",
   "metadata": {},
   "outputs": [
    {
     "name": "stdout",
     "output_type": "stream",
     "text": [
      "Fitting 3 folds for each of 5 candidates, totalling 15 fits\n",
      "[CV] END ................................linear_svc__C=0.001; total time=   0.6s\n",
      "[CV] END ................................linear_svc__C=0.001; total time=   0.6s\n",
      "[CV] END ................................linear_svc__C=0.001; total time=   0.5s\n",
      "[CV] END .................................linear_svc__C=0.01; total time=   1.0s\n",
      "[CV] END .................................linear_svc__C=0.01; total time=   0.9s\n",
      "[CV] END .................................linear_svc__C=0.01; total time=   1.1s\n",
      "[CV] END ..................................linear_svc__C=0.1; total time=   7.6s\n",
      "[CV] END ..................................linear_svc__C=0.1; total time=   5.3s\n",
      "[CV] END ..................................linear_svc__C=0.1; total time=   7.2s\n"
     ]
    },
    {
     "name": "stderr",
     "output_type": "stream",
     "text": [
      "/Users/tylermatteo/.pyenv/versions/3.7.10/lib/python3.7/site-packages/sklearn/svm/_base.py:986: ConvergenceWarning: Liblinear failed to converge, increase the number of iterations.\n",
      "  \"the number of iterations.\", ConvergenceWarning)\n"
     ]
    },
    {
     "name": "stdout",
     "output_type": "stream",
     "text": [
      "[CV] END ....................................linear_svc__C=1; total time=  54.8s\n",
      "[CV] END ....................................linear_svc__C=1; total time=  51.5s\n"
     ]
    },
    {
     "name": "stderr",
     "output_type": "stream",
     "text": [
      "/Users/tylermatteo/.pyenv/versions/3.7.10/lib/python3.7/site-packages/sklearn/svm/_base.py:986: ConvergenceWarning: Liblinear failed to converge, increase the number of iterations.\n",
      "  \"the number of iterations.\", ConvergenceWarning)\n"
     ]
    },
    {
     "name": "stdout",
     "output_type": "stream",
     "text": [
      "[CV] END ....................................linear_svc__C=1; total time=  54.5s\n"
     ]
    },
    {
     "name": "stderr",
     "output_type": "stream",
     "text": [
      "/Users/tylermatteo/.pyenv/versions/3.7.10/lib/python3.7/site-packages/sklearn/svm/_base.py:986: ConvergenceWarning: Liblinear failed to converge, increase the number of iterations.\n",
      "  \"the number of iterations.\", ConvergenceWarning)\n"
     ]
    },
    {
     "name": "stdout",
     "output_type": "stream",
     "text": [
      "[CV] END ...................................linear_svc__C=10; total time=  57.2s\n"
     ]
    },
    {
     "name": "stderr",
     "output_type": "stream",
     "text": [
      "/Users/tylermatteo/.pyenv/versions/3.7.10/lib/python3.7/site-packages/sklearn/svm/_base.py:986: ConvergenceWarning: Liblinear failed to converge, increase the number of iterations.\n",
      "  \"the number of iterations.\", ConvergenceWarning)\n"
     ]
    },
    {
     "name": "stdout",
     "output_type": "stream",
     "text": [
      "[CV] END ...................................linear_svc__C=10; total time=  57.1s\n"
     ]
    },
    {
     "name": "stderr",
     "output_type": "stream",
     "text": [
      "/Users/tylermatteo/.pyenv/versions/3.7.10/lib/python3.7/site-packages/sklearn/svm/_base.py:986: ConvergenceWarning: Liblinear failed to converge, increase the number of iterations.\n",
      "  \"the number of iterations.\", ConvergenceWarning)\n"
     ]
    },
    {
     "name": "stdout",
     "output_type": "stream",
     "text": [
      "[CV] END ...................................linear_svc__C=10; total time=  56.9s\n"
     ]
    },
    {
     "data": {
      "text/plain": [
       "GridSearchCV(cv=3,\n",
       "             estimator=Pipeline(steps=[('scaler', StandardScaler()),\n",
       "                                       ('linear_svc',\n",
       "                                        LinearSVC(loss='hinge',\n",
       "                                                  random_state=42))]),\n",
       "             param_grid={'linear_svc__C': [0.001, 0.01, 0.1, 1, 10]},\n",
       "             scoring='roc_auc', verbose=2)"
      ]
     },
     "execution_count": 66,
     "metadata": {},
     "output_type": "execute_result"
    }
   ],
   "source": [
    "svm_grid = GridSearchCV(svm_clf, param_grid, cv=3, scoring='roc_auc', verbose=2)\n",
    "svm_grid.fit(X_train, y_train)"
   ]
  },
  {
   "cell_type": "code",
   "execution_count": 67,
   "id": "instant-capacity",
   "metadata": {},
   "outputs": [
    {
     "data": {
      "text/plain": [
       "{'linear_svc__C': 0.001}"
      ]
     },
     "execution_count": 67,
     "metadata": {},
     "output_type": "execute_result"
    }
   ],
   "source": [
    "svm_grid.best_params_"
   ]
  },
  {
   "cell_type": "code",
   "execution_count": 39,
   "id": "chicken-bryan",
   "metadata": {},
   "outputs": [],
   "source": [
    "svm_clf_best = svm_grid.best_estimator_"
   ]
  },
  {
   "cell_type": "code",
   "execution_count": 40,
   "id": "identified-financing",
   "metadata": {},
   "outputs": [],
   "source": [
    "y_pred = svm_clf_best.predict(X_test)"
   ]
  },
  {
   "cell_type": "code",
   "execution_count": 41,
   "id": "collaborative-champagne",
   "metadata": {},
   "outputs": [],
   "source": [
    "from matplotlib import pyplot as plt\n"
   ]
  },
  {
   "cell_type": "code",
   "execution_count": 42,
   "id": "radio-mineral",
   "metadata": {},
   "outputs": [],
   "source": [
    "def binary_classification_performance(y_test, y_pred, weights=None):\n",
    "    tp, fp, fn, tn = confusion_matrix(y_test, y_pred, sample_weight=weights).ravel()\n",
    "    accuracy = round(accuracy_score(y_pred = y_pred, y_true = y_test),2)\n",
    "    precision = round(precision_score(y_pred = y_pred, y_true = y_test),2)\n",
    "    recall = round(recall_score(y_pred = y_pred, y_true = y_test),2)\n",
    "    f1_score = round(2*precision*recall/(precision + recall),2)\n",
    "    specificity = round(tn/(tn+fp),2)\n",
    "    npv = round(tn/(tn+fn),2)\n",
    "    auc_roc = round(roc_auc_score(y_score = y_pred, y_true = y_test),2)\n",
    "\n",
    "\n",
    "    result = pd.DataFrame({'Accuracy' : [accuracy],\n",
    "                         'Precision (or PPV)' : [precision],\n",
    "                         'Recall (senitivity or TPR)' : [recall],\n",
    "                         'f1 score' : [f1_score],\n",
    "                         'AUC_ROC' : [auc_roc],\n",
    "                         'Specificty (or TNR)': [specificity],\n",
    "                         'NPV' : [npv],\n",
    "                         'True Positive' : [tp],\n",
    "                         'True Negative' : [tn],\n",
    "                         'False Positive':[fp],\n",
    "                         'False Negative':[fn]})\n",
    "    return result\n"
   ]
  },
  {
   "cell_type": "code",
   "execution_count": 56,
   "id": "roman-persian",
   "metadata": {},
   "outputs": [
    {
     "name": "stderr",
     "output_type": "stream",
     "text": [
      "/Users/tylermatteo/.pyenv/versions/3.7.10/lib/python3.7/site-packages/sklearn/metrics/_classification.py:1245: UndefinedMetricWarning: Precision is ill-defined and being set to 0.0 due to no predicted samples. Use `zero_division` parameter to control this behavior.\n",
      "  _warn_prf(average, modifier, msg_start, len(result))\n",
      "/Users/tylermatteo/.pyenv/versions/3.7.10/lib/python3.7/site-packages/ipykernel_launcher.py:6: RuntimeWarning: invalid value encountered in double_scalars\n",
      "  \n",
      "/Users/tylermatteo/.pyenv/versions/3.7.10/lib/python3.7/site-packages/ipykernel_launcher.py:7: RuntimeWarning: invalid value encountered in long_scalars\n",
      "  import sys\n"
     ]
    }
   ],
   "source": [
    "res = binary_classification_performance(y_test, y_pred)"
   ]
  },
  {
   "cell_type": "code",
   "execution_count": 44,
   "id": "technical-average",
   "metadata": {},
   "outputs": [
    {
     "data": {
      "text/plain": [
       "66944"
      ]
     },
     "execution_count": 44,
     "metadata": {},
     "output_type": "execute_result"
    }
   ],
   "source": [
    "len(y_pred)"
   ]
  },
  {
   "cell_type": "code",
   "execution_count": 45,
   "id": "through-language",
   "metadata": {},
   "outputs": [
    {
     "data": {
      "text/html": [
       "<div>\n",
       "<style scoped>\n",
       "    .dataframe tbody tr th:only-of-type {\n",
       "        vertical-align: middle;\n",
       "    }\n",
       "\n",
       "    .dataframe tbody tr th {\n",
       "        vertical-align: top;\n",
       "    }\n",
       "\n",
       "    .dataframe thead th {\n",
       "        text-align: right;\n",
       "    }\n",
       "</style>\n",
       "<table border=\"1\" class=\"dataframe\">\n",
       "  <thead>\n",
       "    <tr style=\"text-align: right;\">\n",
       "      <th></th>\n",
       "      <th>Accuracy</th>\n",
       "      <th>Precision (or PPV)</th>\n",
       "      <th>Recall (senitivity or TPR)</th>\n",
       "      <th>f1 score</th>\n",
       "      <th>AUC_ROC</th>\n",
       "      <th>Specificty (or TNR)</th>\n",
       "      <th>NPV</th>\n",
       "      <th>True Positive</th>\n",
       "      <th>True Negative</th>\n",
       "      <th>False Positive</th>\n",
       "      <th>False Negative</th>\n",
       "    </tr>\n",
       "  </thead>\n",
       "  <tbody>\n",
       "    <tr>\n",
       "      <th>0</th>\n",
       "      <td>0.98</td>\n",
       "      <td>0.0</td>\n",
       "      <td>0.0</td>\n",
       "      <td>NaN</td>\n",
       "      <td>0.5</td>\n",
       "      <td>NaN</td>\n",
       "      <td>0.0</td>\n",
       "      <td>65608</td>\n",
       "      <td>0</td>\n",
       "      <td>0</td>\n",
       "      <td>1336</td>\n",
       "    </tr>\n",
       "  </tbody>\n",
       "</table>\n",
       "</div>"
      ],
      "text/plain": [
       "   Accuracy  Precision (or PPV)  Recall (senitivity or TPR)  f1 score  \\\n",
       "0      0.98                 0.0                         0.0       NaN   \n",
       "\n",
       "   AUC_ROC  Specificty (or TNR)  NPV  True Positive  True Negative  \\\n",
       "0      0.5                  NaN  0.0          65608              0   \n",
       "\n",
       "   False Positive  False Negative  \n",
       "0               0            1336  "
      ]
     },
     "execution_count": 45,
     "metadata": {},
     "output_type": "execute_result"
    }
   ],
   "source": [
    "res"
   ]
  },
  {
   "cell_type": "code",
   "execution_count": 57,
   "id": "executive-johnston",
   "metadata": {},
   "outputs": [
    {
     "data": {
      "text/plain": [
       "<sklearn.metrics._plot.roc_curve.RocCurveDisplay at 0x10e05e690>"
      ]
     },
     "execution_count": 57,
     "metadata": {},
     "output_type": "execute_result"
    },
    {
     "data": {
      "image/png": "[encoded data removed]",
      "text/plain": [
       "<Figure size 432x288 with 1 Axes>"
      ]
     },
     "metadata": {
      "needs_background": "light"
     },
     "output_type": "display_data"
    }
   ],
   "source": [
    "plot_roc_curve(svm_clf_best, X_test, y_test)"
   ]
  },
  {
   "cell_type": "code",
   "execution_count": 24,
   "id": "sticky-camera",
   "metadata": {},
   "outputs": [
    {
     "data": {
      "text/plain": [
       "array([[ 1.91839869e-13, -4.03678431e-13, -1.02537761e+00,\n",
       "         3.55321550e-13,  1.23936392e-13, -7.11430009e-11,\n",
       "         9.46685568e-12,  5.97161104e-12, -8.67324936e-13,\n",
       "        -1.63667741e-12, -3.76101927e-13,  2.18179924e-13,\n",
       "        -5.70352714e-13, -1.50051218e-14,  1.78212534e-13,\n",
       "         4.77160969e-13, -4.08723901e-13,  3.23114434e-13,\n",
       "         2.39728923e-13, -3.82003087e-13, -4.87389774e-13,\n",
       "         6.88654924e-13,  3.50013976e-13,  4.82555266e-13,\n",
       "         8.40305120e-13,  3.15565930e-13,  1.16238143e-12,\n",
       "        -1.77061068e-13, -2.05591709e-13, -2.27853834e-14,\n",
       "        -5.22833085e-13,  1.28976046e-13,  1.89775640e-13,\n",
       "         1.93281798e-14]])"
      ]
     },
     "execution_count": 24,
     "metadata": {},
     "output_type": "execute_result"
    }
   ],
   "source": [
    "svm_clf_best.named_steps['linear_svc'].coef_"
   ]
  },
  {
   "cell_type": "code",
   "execution_count": 47,
   "id": "governing-postcard",
   "metadata": {},
   "outputs": [],
   "source": [
    "X_train_preprocessed = pd.DataFrame(\n",
    "    svm_clf_best.named_steps['scaler'].transform(X_train),\n",
    "    columns=features\n",
    ")"
   ]
  },
  {
   "cell_type": "code",
   "execution_count": 48,
   "id": "appropriate-calculation",
   "metadata": {},
   "outputs": [],
   "source": [
    "coefs = pd.DataFrame(\n",
    "    svm_clf_best.named_steps['linear_svc'].coef_[0]*\n",
    "    X_train_preprocessed.std(axis=0),\n",
    "    columns=['Coefficient importance'],\n",
    "    index=features\n",
    ")"
   ]
  },
  {
   "cell_type": "code",
   "execution_count": 64,
   "id": "british-harvard",
   "metadata": {},
   "outputs": [
    {
     "data": {
      "image/png": "[encoded data removed]",
      "text/plain": [
       "<Figure size 648x504 with 1 Axes>"
      ]
     },
     "metadata": {
      "needs_background": "light"
     },
     "output_type": "display_data"
    }
   ],
   "source": [
    "coefs.drop(['approved1_block','assesstot']).plot(kind='barh', figsize=(9, 7))\n",
    "plt.title('Linear SVM Coefficients')\n",
    "plt.axvline(x=0, color='.5')\n",
    "plt.subplots_adjust(left=.3)"
   ]
  },
  {
   "cell_type": "code",
   "execution_count": 57,
   "id": "indirect-reset",
   "metadata": {},
   "outputs": [
    {
     "data": {
      "image/png": "[encoded data removed]",
      "text/plain": [
       "<Figure size 648x504 with 1 Axes>"
      ]
     },
     "metadata": {
      "needs_background": "light"
     },
     "output_type": "display_data"
    }
   ],
   "source": [
    "coefs.loc[['approved1_block','assesstot']].plot(kind='barh', figsize=(9, 7))\n",
    "plt.title('Linear SVM Coefficients')\n",
    "plt.axvline(x=0, color='.5')\n",
    "plt.subplots_adjust(left=.3)"
   ]
  },
  {
   "cell_type": "code",
   "execution_count": 51,
   "id": "original-madness",
   "metadata": {},
   "outputs": [
    {
     "data": {
      "text/html": [
       "<div>\n",
       "<style scoped>\n",
       "    .dataframe tbody tr th:only-of-type {\n",
       "        vertical-align: middle;\n",
       "    }\n",
       "\n",
       "    .dataframe tbody tr th {\n",
       "        vertical-align: top;\n",
       "    }\n",
       "\n",
       "    .dataframe thead th {\n",
       "        text-align: right;\n",
       "    }\n",
       "</style>\n",
       "<table border=\"1\" class=\"dataframe\">\n",
       "  <thead>\n",
       "    <tr style=\"text-align: right;\">\n",
       "      <th></th>\n",
       "      <th>Coefficient importance</th>\n",
       "    </tr>\n",
       "  </thead>\n",
       "  <tbody>\n",
       "    <tr>\n",
       "      <th>alter1</th>\n",
       "      <td>1.918403e-13</td>\n",
       "    </tr>\n",
       "    <tr>\n",
       "      <th>alter2</th>\n",
       "      <td>-4.036794e-13</td>\n",
       "    </tr>\n",
       "    <tr>\n",
       "      <th>approved1_block</th>\n",
       "      <td>-1.025380e+00</td>\n",
       "    </tr>\n",
       "    <tr>\n",
       "      <th>approved2_block</th>\n",
       "      <td>3.553224e-13</td>\n",
       "    </tr>\n",
       "    <tr>\n",
       "      <th>approved5_block</th>\n",
       "      <td>1.239367e-13</td>\n",
       "    </tr>\n",
       "    <tr>\n",
       "      <th>assesstot</th>\n",
       "      <td>-7.114318e-11</td>\n",
       "    </tr>\n",
       "    <tr>\n",
       "      <th>bldgarea</th>\n",
       "      <td>9.466879e-12</td>\n",
       "    </tr>\n",
       "    <tr>\n",
       "      <th>comarea</th>\n",
       "      <td>5.971626e-12</td>\n",
       "    </tr>\n",
       "    <tr>\n",
       "      <th>landuse_2.0</th>\n",
       "      <td>-8.673271e-13</td>\n",
       "    </tr>\n",
       "    <tr>\n",
       "      <th>landuse_3.0</th>\n",
       "      <td>-1.636681e-12</td>\n",
       "    </tr>\n",
       "    <tr>\n",
       "      <th>landuse_4.0</th>\n",
       "      <td>-3.761029e-13</td>\n",
       "    </tr>\n",
       "    <tr>\n",
       "      <th>landuse_5.0</th>\n",
       "      <td>2.181805e-13</td>\n",
       "    </tr>\n",
       "    <tr>\n",
       "      <th>landuse_6.0</th>\n",
       "      <td>-5.703541e-13</td>\n",
       "    </tr>\n",
       "    <tr>\n",
       "      <th>landuse_7.0</th>\n",
       "      <td>-1.500516e-14</td>\n",
       "    </tr>\n",
       "    <tr>\n",
       "      <th>landuse_8.0</th>\n",
       "      <td>1.782130e-13</td>\n",
       "    </tr>\n",
       "    <tr>\n",
       "      <th>medianIncome</th>\n",
       "      <td>4.771622e-13</td>\n",
       "    </tr>\n",
       "    <tr>\n",
       "      <th>noise</th>\n",
       "      <td>-4.087249e-13</td>\n",
       "    </tr>\n",
       "    <tr>\n",
       "      <th>numbldgs</th>\n",
       "      <td>3.231152e-13</td>\n",
       "    </tr>\n",
       "    <tr>\n",
       "      <th>pctAfricanAmerican</th>\n",
       "      <td>2.397295e-13</td>\n",
       "    </tr>\n",
       "    <tr>\n",
       "      <th>pctAsian</th>\n",
       "      <td>-3.820040e-13</td>\n",
       "    </tr>\n",
       "    <tr>\n",
       "      <th>pctBachelors</th>\n",
       "      <td>-4.873910e-13</td>\n",
       "    </tr>\n",
       "    <tr>\n",
       "      <th>pctLatino</th>\n",
       "      <td>6.886566e-13</td>\n",
       "    </tr>\n",
       "    <tr>\n",
       "      <th>pctOver62</th>\n",
       "      <td>3.500148e-13</td>\n",
       "    </tr>\n",
       "    <tr>\n",
       "      <th>pctUnder18</th>\n",
       "      <td>4.825565e-13</td>\n",
       "    </tr>\n",
       "    <tr>\n",
       "      <th>pctWhite</th>\n",
       "      <td>8.403072e-13</td>\n",
       "    </tr>\n",
       "    <tr>\n",
       "      <th>popdensity</th>\n",
       "      <td>3.155667e-13</td>\n",
       "    </tr>\n",
       "    <tr>\n",
       "      <th>roofarea</th>\n",
       "      <td>1.162384e-12</td>\n",
       "    </tr>\n",
       "    <tr>\n",
       "      <th>svf</th>\n",
       "      <td>-1.770615e-13</td>\n",
       "    </tr>\n",
       "    <tr>\n",
       "      <th>yearbuilt_1900_1940</th>\n",
       "      <td>-2.055922e-13</td>\n",
       "    </tr>\n",
       "    <tr>\n",
       "      <th>yearbuilt_1940_1980</th>\n",
       "      <td>-2.278544e-14</td>\n",
       "    </tr>\n",
       "    <tr>\n",
       "      <th>yearbuilt_1980_2000</th>\n",
       "      <td>-5.228344e-13</td>\n",
       "    </tr>\n",
       "    <tr>\n",
       "      <th>yearbuilt_2000_2010</th>\n",
       "      <td>1.289764e-13</td>\n",
       "    </tr>\n",
       "    <tr>\n",
       "      <th>yearbuilt_2010_2015</th>\n",
       "      <td>1.897761e-13</td>\n",
       "    </tr>\n",
       "    <tr>\n",
       "      <th>yearbuilt_2015_2020</th>\n",
       "      <td>1.932823e-14</td>\n",
       "    </tr>\n",
       "  </tbody>\n",
       "</table>\n",
       "</div>"
      ],
      "text/plain": [
       "                     Coefficient importance\n",
       "alter1                         1.918403e-13\n",
       "alter2                        -4.036794e-13\n",
       "approved1_block               -1.025380e+00\n",
       "approved2_block                3.553224e-13\n",
       "approved5_block                1.239367e-13\n",
       "assesstot                     -7.114318e-11\n",
       "bldgarea                       9.466879e-12\n",
       "comarea                        5.971626e-12\n",
       "landuse_2.0                   -8.673271e-13\n",
       "landuse_3.0                   -1.636681e-12\n",
       "landuse_4.0                   -3.761029e-13\n",
       "landuse_5.0                    2.181805e-13\n",
       "landuse_6.0                   -5.703541e-13\n",
       "landuse_7.0                   -1.500516e-14\n",
       "landuse_8.0                    1.782130e-13\n",
       "medianIncome                   4.771622e-13\n",
       "noise                         -4.087249e-13\n",
       "numbldgs                       3.231152e-13\n",
       "pctAfricanAmerican             2.397295e-13\n",
       "pctAsian                      -3.820040e-13\n",
       "pctBachelors                  -4.873910e-13\n",
       "pctLatino                      6.886566e-13\n",
       "pctOver62                      3.500148e-13\n",
       "pctUnder18                     4.825565e-13\n",
       "pctWhite                       8.403072e-13\n",
       "popdensity                     3.155667e-13\n",
       "roofarea                       1.162384e-12\n",
       "svf                           -1.770615e-13\n",
       "yearbuilt_1900_1940           -2.055922e-13\n",
       "yearbuilt_1940_1980           -2.278544e-14\n",
       "yearbuilt_1980_2000           -5.228344e-13\n",
       "yearbuilt_2000_2010            1.289764e-13\n",
       "yearbuilt_2010_2015            1.897761e-13\n",
       "yearbuilt_2015_2020            1.932823e-14"
      ]
     },
     "execution_count": 51,
     "metadata": {},
     "output_type": "execute_result"
    }
   ],
   "source": [
    "coefs"
   ]
  },
  {
   "cell_type": "code",
   "execution_count": null,
   "id": "scenic-ghost",
   "metadata": {},
   "outputs": [],
   "source": []
  },
  {
   "cell_type": "code",
   "execution_count": 53,
   "id": "uniform-mattress",
   "metadata": {},
   "outputs": [
    {
     "data": {
      "text/html": [
       "<div>\n",
       "<style scoped>\n",
       "    .dataframe tbody tr th:only-of-type {\n",
       "        vertical-align: middle;\n",
       "    }\n",
       "\n",
       "    .dataframe tbody tr th {\n",
       "        vertical-align: top;\n",
       "    }\n",
       "\n",
       "    .dataframe thead th {\n",
       "        text-align: right;\n",
       "    }\n",
       "</style>\n",
       "<table border=\"1\" class=\"dataframe\">\n",
       "  <thead>\n",
       "    <tr style=\"text-align: right;\">\n",
       "      <th></th>\n",
       "      <th>alter1</th>\n",
       "      <th>alter2</th>\n",
       "      <th>approved1_block</th>\n",
       "      <th>approved2_block</th>\n",
       "      <th>approved5_block</th>\n",
       "      <th>assesstot</th>\n",
       "      <th>bldgarea</th>\n",
       "      <th>comarea</th>\n",
       "      <th>landuse_2.0</th>\n",
       "      <th>landuse_3.0</th>\n",
       "      <th>...</th>\n",
       "      <th>pctWhite</th>\n",
       "      <th>popdensity</th>\n",
       "      <th>roofarea</th>\n",
       "      <th>svf</th>\n",
       "      <th>yearbuilt_1900_1940</th>\n",
       "      <th>yearbuilt_1940_1980</th>\n",
       "      <th>yearbuilt_1980_2000</th>\n",
       "      <th>yearbuilt_2000_2010</th>\n",
       "      <th>yearbuilt_2010_2015</th>\n",
       "      <th>yearbuilt_2015_2020</th>\n",
       "    </tr>\n",
       "  </thead>\n",
       "  <tbody>\n",
       "    <tr>\n",
       "      <th>0</th>\n",
       "      <td>-0.349346</td>\n",
       "      <td>-0.124574</td>\n",
       "      <td>3.568487</td>\n",
       "      <td>3.119766</td>\n",
       "      <td>1.368045</td>\n",
       "      <td>-0.067092</td>\n",
       "      <td>-0.201604</td>\n",
       "      <td>-0.088133</td>\n",
       "      <td>-0.554628</td>\n",
       "      <td>-0.107492</td>\n",
       "      <td>...</td>\n",
       "      <td>-1.581775</td>\n",
       "      <td>-1.086273</td>\n",
       "      <td>-0.339324</td>\n",
       "      <td>0.181927</td>\n",
       "      <td>0.653006</td>\n",
       "      <td>-0.368841</td>\n",
       "      <td>-0.184640</td>\n",
       "      <td>-0.188186</td>\n",
       "      <td>-0.080811</td>\n",
       "      <td>-0.078629</td>\n",
       "    </tr>\n",
       "    <tr>\n",
       "      <th>1</th>\n",
       "      <td>-0.349346</td>\n",
       "      <td>-0.124574</td>\n",
       "      <td>-0.332515</td>\n",
       "      <td>-0.478927</td>\n",
       "      <td>-0.581540</td>\n",
       "      <td>-0.058776</td>\n",
       "      <td>-0.178882</td>\n",
       "      <td>-0.088133</td>\n",
       "      <td>1.803009</td>\n",
       "      <td>-0.107492</td>\n",
       "      <td>...</td>\n",
       "      <td>0.224897</td>\n",
       "      <td>0.397529</td>\n",
       "      <td>-0.350489</td>\n",
       "      <td>-1.217046</td>\n",
       "      <td>0.653006</td>\n",
       "      <td>-0.368841</td>\n",
       "      <td>-0.184640</td>\n",
       "      <td>-0.188186</td>\n",
       "      <td>-0.080811</td>\n",
       "      <td>-0.078629</td>\n",
       "    </tr>\n",
       "    <tr>\n",
       "      <th>2</th>\n",
       "      <td>-0.349346</td>\n",
       "      <td>-0.124574</td>\n",
       "      <td>-0.332515</td>\n",
       "      <td>-0.478927</td>\n",
       "      <td>0.068322</td>\n",
       "      <td>-0.039533</td>\n",
       "      <td>-0.148587</td>\n",
       "      <td>-0.088133</td>\n",
       "      <td>-0.554628</td>\n",
       "      <td>-0.107492</td>\n",
       "      <td>...</td>\n",
       "      <td>1.374901</td>\n",
       "      <td>-1.019724</td>\n",
       "      <td>-0.135078</td>\n",
       "      <td>0.858284</td>\n",
       "      <td>-1.531379</td>\n",
       "      <td>-0.368841</td>\n",
       "      <td>-0.184640</td>\n",
       "      <td>-0.188186</td>\n",
       "      <td>-0.080811</td>\n",
       "      <td>-0.078629</td>\n",
       "    </tr>\n",
       "    <tr>\n",
       "      <th>3</th>\n",
       "      <td>-0.349346</td>\n",
       "      <td>-0.124574</td>\n",
       "      <td>-0.332515</td>\n",
       "      <td>-0.478927</td>\n",
       "      <td>0.068322</td>\n",
       "      <td>-0.061110</td>\n",
       "      <td>-0.158295</td>\n",
       "      <td>-0.088133</td>\n",
       "      <td>-0.554628</td>\n",
       "      <td>-0.107492</td>\n",
       "      <td>...</td>\n",
       "      <td>-0.728439</td>\n",
       "      <td>-0.584754</td>\n",
       "      <td>-0.141912</td>\n",
       "      <td>0.867108</td>\n",
       "      <td>-1.531379</td>\n",
       "      <td>2.711192</td>\n",
       "      <td>-0.184640</td>\n",
       "      <td>-0.188186</td>\n",
       "      <td>-0.080811</td>\n",
       "      <td>-0.078629</td>\n",
       "    </tr>\n",
       "    <tr>\n",
       "      <th>4</th>\n",
       "      <td>2.862494</td>\n",
       "      <td>-0.124574</td>\n",
       "      <td>-0.332515</td>\n",
       "      <td>-0.478927</td>\n",
       "      <td>-0.581540</td>\n",
       "      <td>0.585445</td>\n",
       "      <td>2.907628</td>\n",
       "      <td>-0.088133</td>\n",
       "      <td>-0.554628</td>\n",
       "      <td>9.303021</td>\n",
       "      <td>...</td>\n",
       "      <td>-0.758439</td>\n",
       "      <td>3.112564</td>\n",
       "      <td>1.744350</td>\n",
       "      <td>0.478404</td>\n",
       "      <td>0.653006</td>\n",
       "      <td>-0.368841</td>\n",
       "      <td>-0.184640</td>\n",
       "      <td>-0.188186</td>\n",
       "      <td>-0.080811</td>\n",
       "      <td>-0.078629</td>\n",
       "    </tr>\n",
       "    <tr>\n",
       "      <th>...</th>\n",
       "      <td>...</td>\n",
       "      <td>...</td>\n",
       "      <td>...</td>\n",
       "      <td>...</td>\n",
       "      <td>...</td>\n",
       "      <td>...</td>\n",
       "      <td>...</td>\n",
       "      <td>...</td>\n",
       "      <td>...</td>\n",
       "      <td>...</td>\n",
       "      <td>...</td>\n",
       "      <td>...</td>\n",
       "      <td>...</td>\n",
       "      <td>...</td>\n",
       "      <td>...</td>\n",
       "      <td>...</td>\n",
       "      <td>...</td>\n",
       "      <td>...</td>\n",
       "      <td>...</td>\n",
       "      <td>...</td>\n",
       "      <td>...</td>\n",
       "    </tr>\n",
       "    <tr>\n",
       "      <th>200826</th>\n",
       "      <td>-0.349346</td>\n",
       "      <td>-0.124574</td>\n",
       "      <td>-0.332515</td>\n",
       "      <td>-0.478927</td>\n",
       "      <td>-0.581540</td>\n",
       "      <td>-0.053639</td>\n",
       "      <td>-0.138397</td>\n",
       "      <td>-0.088133</td>\n",
       "      <td>-0.554628</td>\n",
       "      <td>-0.107492</td>\n",
       "      <td>...</td>\n",
       "      <td>0.801566</td>\n",
       "      <td>0.276540</td>\n",
       "      <td>-0.151566</td>\n",
       "      <td>-0.229084</td>\n",
       "      <td>0.653006</td>\n",
       "      <td>-0.368841</td>\n",
       "      <td>-0.184640</td>\n",
       "      <td>-0.188186</td>\n",
       "      <td>-0.080811</td>\n",
       "      <td>-0.078629</td>\n",
       "    </tr>\n",
       "    <tr>\n",
       "      <th>200827</th>\n",
       "      <td>-0.349346</td>\n",
       "      <td>-0.124574</td>\n",
       "      <td>-0.332515</td>\n",
       "      <td>0.720637</td>\n",
       "      <td>0.718184</td>\n",
       "      <td>-0.066814</td>\n",
       "      <td>-0.202017</td>\n",
       "      <td>-0.088133</td>\n",
       "      <td>-0.554628</td>\n",
       "      <td>-0.107492</td>\n",
       "      <td>...</td>\n",
       "      <td>-1.288441</td>\n",
       "      <td>0.683317</td>\n",
       "      <td>-0.101195</td>\n",
       "      <td>-0.564763</td>\n",
       "      <td>0.653006</td>\n",
       "      <td>-0.368841</td>\n",
       "      <td>-0.184640</td>\n",
       "      <td>-0.188186</td>\n",
       "      <td>-0.080811</td>\n",
       "      <td>-0.078629</td>\n",
       "    </tr>\n",
       "    <tr>\n",
       "      <th>200828</th>\n",
       "      <td>2.862494</td>\n",
       "      <td>-0.124574</td>\n",
       "      <td>-0.332515</td>\n",
       "      <td>-0.478927</td>\n",
       "      <td>-0.581540</td>\n",
       "      <td>0.372727</td>\n",
       "      <td>3.941239</td>\n",
       "      <td>-0.088133</td>\n",
       "      <td>-0.554628</td>\n",
       "      <td>9.303021</td>\n",
       "      <td>...</td>\n",
       "      <td>-0.661772</td>\n",
       "      <td>5.279774</td>\n",
       "      <td>2.179954</td>\n",
       "      <td>0.518449</td>\n",
       "      <td>0.653006</td>\n",
       "      <td>-0.368841</td>\n",
       "      <td>-0.184640</td>\n",
       "      <td>-0.188186</td>\n",
       "      <td>-0.080811</td>\n",
       "      <td>-0.078629</td>\n",
       "    </tr>\n",
       "    <tr>\n",
       "      <th>200829</th>\n",
       "      <td>2.862494</td>\n",
       "      <td>8.027364</td>\n",
       "      <td>-0.332515</td>\n",
       "      <td>-0.478927</td>\n",
       "      <td>-0.581540</td>\n",
       "      <td>0.032219</td>\n",
       "      <td>-0.196371</td>\n",
       "      <td>0.024468</td>\n",
       "      <td>-0.554628</td>\n",
       "      <td>-0.107492</td>\n",
       "      <td>...</td>\n",
       "      <td>0.341564</td>\n",
       "      <td>-0.203014</td>\n",
       "      <td>0.228809</td>\n",
       "      <td>0.799307</td>\n",
       "      <td>-1.531379</td>\n",
       "      <td>2.711192</td>\n",
       "      <td>-0.184640</td>\n",
       "      <td>-0.188186</td>\n",
       "      <td>-0.080811</td>\n",
       "      <td>-0.078629</td>\n",
       "    </tr>\n",
       "    <tr>\n",
       "      <th>200830</th>\n",
       "      <td>-0.349346</td>\n",
       "      <td>-0.124574</td>\n",
       "      <td>-0.332515</td>\n",
       "      <td>-0.478927</td>\n",
       "      <td>2.017907</td>\n",
       "      <td>0.026921</td>\n",
       "      <td>0.073806</td>\n",
       "      <td>0.423966</td>\n",
       "      <td>-0.554628</td>\n",
       "      <td>-0.107492</td>\n",
       "      <td>...</td>\n",
       "      <td>-1.321774</td>\n",
       "      <td>0.664368</td>\n",
       "      <td>0.324126</td>\n",
       "      <td>-0.816796</td>\n",
       "      <td>-1.531379</td>\n",
       "      <td>-0.368841</td>\n",
       "      <td>5.415942</td>\n",
       "      <td>-0.188186</td>\n",
       "      <td>-0.080811</td>\n",
       "      <td>-0.078629</td>\n",
       "    </tr>\n",
       "  </tbody>\n",
       "</table>\n",
       "<p>200831 rows × 34 columns</p>\n",
       "</div>"
      ],
      "text/plain": [
       "          alter1    alter2  approved1_block  approved2_block  approved5_block  \\\n",
       "0      -0.349346 -0.124574         3.568487         3.119766         1.368045   \n",
       "1      -0.349346 -0.124574        -0.332515        -0.478927        -0.581540   \n",
       "2      -0.349346 -0.124574        -0.332515        -0.478927         0.068322   \n",
       "3      -0.349346 -0.124574        -0.332515        -0.478927         0.068322   \n",
       "4       2.862494 -0.124574        -0.332515        -0.478927        -0.581540   \n",
       "...          ...       ...              ...              ...              ...   \n",
       "200826 -0.349346 -0.124574        -0.332515        -0.478927        -0.581540   \n",
       "200827 -0.349346 -0.124574        -0.332515         0.720637         0.718184   \n",
       "200828  2.862494 -0.124574        -0.332515        -0.478927        -0.581540   \n",
       "200829  2.862494  8.027364        -0.332515        -0.478927        -0.581540   \n",
       "200830 -0.349346 -0.124574        -0.332515        -0.478927         2.017907   \n",
       "\n",
       "        assesstot  bldgarea   comarea  landuse_2.0  landuse_3.0  ...  \\\n",
       "0       -0.067092 -0.201604 -0.088133    -0.554628    -0.107492  ...   \n",
       "1       -0.058776 -0.178882 -0.088133     1.803009    -0.107492  ...   \n",
       "2       -0.039533 -0.148587 -0.088133    -0.554628    -0.107492  ...   \n",
       "3       -0.061110 -0.158295 -0.088133    -0.554628    -0.107492  ...   \n",
       "4        0.585445  2.907628 -0.088133    -0.554628     9.303021  ...   \n",
       "...           ...       ...       ...          ...          ...  ...   \n",
       "200826  -0.053639 -0.138397 -0.088133    -0.554628    -0.107492  ...   \n",
       "200827  -0.066814 -0.202017 -0.088133    -0.554628    -0.107492  ...   \n",
       "200828   0.372727  3.941239 -0.088133    -0.554628     9.303021  ...   \n",
       "200829   0.032219 -0.196371  0.024468    -0.554628    -0.107492  ...   \n",
       "200830   0.026921  0.073806  0.423966    -0.554628    -0.107492  ...   \n",
       "\n",
       "        pctWhite  popdensity  roofarea       svf  yearbuilt_1900_1940  \\\n",
       "0      -1.581775   -1.086273 -0.339324  0.181927             0.653006   \n",
       "1       0.224897    0.397529 -0.350489 -1.217046             0.653006   \n",
       "2       1.374901   -1.019724 -0.135078  0.858284            -1.531379   \n",
       "3      -0.728439   -0.584754 -0.141912  0.867108            -1.531379   \n",
       "4      -0.758439    3.112564  1.744350  0.478404             0.653006   \n",
       "...          ...         ...       ...       ...                  ...   \n",
       "200826  0.801566    0.276540 -0.151566 -0.229084             0.653006   \n",
       "200827 -1.288441    0.683317 -0.101195 -0.564763             0.653006   \n",
       "200828 -0.661772    5.279774  2.179954  0.518449             0.653006   \n",
       "200829  0.341564   -0.203014  0.228809  0.799307            -1.531379   \n",
       "200830 -1.321774    0.664368  0.324126 -0.816796            -1.531379   \n",
       "\n",
       "        yearbuilt_1940_1980  yearbuilt_1980_2000  yearbuilt_2000_2010  \\\n",
       "0                 -0.368841            -0.184640            -0.188186   \n",
       "1                 -0.368841            -0.184640            -0.188186   \n",
       "2                 -0.368841            -0.184640            -0.188186   \n",
       "3                  2.711192            -0.184640            -0.188186   \n",
       "4                 -0.368841            -0.184640            -0.188186   \n",
       "...                     ...                  ...                  ...   \n",
       "200826            -0.368841            -0.184640            -0.188186   \n",
       "200827            -0.368841            -0.184640            -0.188186   \n",
       "200828            -0.368841            -0.184640            -0.188186   \n",
       "200829             2.711192            -0.184640            -0.188186   \n",
       "200830            -0.368841             5.415942            -0.188186   \n",
       "\n",
       "        yearbuilt_2010_2015  yearbuilt_2015_2020  \n",
       "0                 -0.080811            -0.078629  \n",
       "1                 -0.080811            -0.078629  \n",
       "2                 -0.080811            -0.078629  \n",
       "3                 -0.080811            -0.078629  \n",
       "4                 -0.080811            -0.078629  \n",
       "...                     ...                  ...  \n",
       "200826            -0.080811            -0.078629  \n",
       "200827            -0.080811            -0.078629  \n",
       "200828            -0.080811            -0.078629  \n",
       "200829            -0.080811            -0.078629  \n",
       "200830            -0.080811            -0.078629  \n",
       "\n",
       "[200831 rows x 34 columns]"
      ]
     },
     "execution_count": 53,
     "metadata": {},
     "output_type": "execute_result"
    }
   ],
   "source": [
    "X_train_preprocessed"
   ]
  },
  {
   "cell_type": "code",
   "execution_count": null,
   "id": "public-warrant",
   "metadata": {},
   "outputs": [],
   "source": []
  }
 ],
 "metadata": {
  "kernelspec": {
   "display_name": "Python 3",
   "language": "python",
   "name": "python3"
  },
  "language_info": {
   "codemirror_mode": {
    "name": "ipython",
    "version": 3
   },
   "file_extension": ".py",
   "mimetype": "text/x-python",
   "name": "python",
   "nbconvert_exporter": "python",
   "pygments_lexer": "ipython3",
   "version": "3.7.10"
  }
 },
 "nbformat": 4,
 "nbformat_minor": 5
}
