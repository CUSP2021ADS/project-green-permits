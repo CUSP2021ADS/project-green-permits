{
 "cells": [
  {
   "cell_type": "code",
   "execution_count": 1,
   "id": "agricultural-rings",
   "metadata": {},
   "outputs": [],
   "source": [
    "from glob import glob\n",
    "import pandas as pd\n",
    "import numpy as np\n",
    "import requests\n",
    "\n",
    "from sklearn.model_selection import train_test_split\n",
    "from sklearn.metrics import confusion_matrix, recall_score, precision_score, accuracy_score, f1_score,roc_auc_score\n",
    "from sklearn.linear_model import LogisticRegression\n",
    "from sklearn.ensemble import RandomForestClassifier\n",
    "from sklearn import svm\n",
    "from sklearn.utils.class_weight import compute_sample_weight\n",
    "\n",
    "import matplotlib.pyplot as plt\n",
    "import geopandas as gpd"
   ]
  },
  {
   "cell_type": "code",
   "execution_count": 2,
   "id": "behavioral-analysis",
   "metadata": {},
   "outputs": [],
   "source": [
    "from sklearn.pipeline import Pipeline\n",
    "from sklearn.preprocessing import StandardScaler\n",
    "from sklearn.svm import LinearSVC"
   ]
  },
  {
   "cell_type": "code",
   "execution_count": 3,
   "id": "mental-melbourne",
   "metadata": {},
   "outputs": [
    {
     "data": {
      "text/html": [
       "<div>\n",
       "<style scoped>\n",
       "    .dataframe tbody tr th:only-of-type {\n",
       "        vertical-align: middle;\n",
       "    }\n",
       "\n",
       "    .dataframe tbody tr th {\n",
       "        vertical-align: top;\n",
       "    }\n",
       "\n",
       "    .dataframe thead th {\n",
       "        text-align: right;\n",
       "    }\n",
       "</style>\n",
       "<table border=\"1\" class=\"dataframe\">\n",
       "  <thead>\n",
       "    <tr style=\"text-align: right;\">\n",
       "      <th></th>\n",
       "      <th>Unnamed: 0</th>\n",
       "      <th>bin</th>\n",
       "      <th>roofarea</th>\n",
       "      <th>svf</th>\n",
       "      <th>numbldgs</th>\n",
       "      <th>assesstot</th>\n",
       "      <th>bldgarea</th>\n",
       "      <th>comarea</th>\n",
       "      <th>yearbuilt_1900_1940</th>\n",
       "      <th>yearbuilt_1940_1980</th>\n",
       "      <th>...</th>\n",
       "      <th>pctLatino</th>\n",
       "      <th>pctUnder18</th>\n",
       "      <th>pctOver62</th>\n",
       "      <th>solar</th>\n",
       "      <th>approved1_block</th>\n",
       "      <th>approved2_block</th>\n",
       "      <th>approved5_block</th>\n",
       "      <th>since_yearalter1</th>\n",
       "      <th>since_yearalter2</th>\n",
       "      <th>popdensity</th>\n",
       "    </tr>\n",
       "  </thead>\n",
       "  <tbody>\n",
       "    <tr>\n",
       "      <th>0</th>\n",
       "      <td>0</td>\n",
       "      <td>3000002.0</td>\n",
       "      <td>17683.475106</td>\n",
       "      <td>0.769877</td>\n",
       "      <td>1.0</td>\n",
       "      <td>17318250.0</td>\n",
       "      <td>170493.0</td>\n",
       "      <td>163894.0</td>\n",
       "      <td>0</td>\n",
       "      <td>0</td>\n",
       "      <td>...</td>\n",
       "      <td>6.4</td>\n",
       "      <td>20.1</td>\n",
       "      <td>3.2</td>\n",
       "      <td>0</td>\n",
       "      <td>0</td>\n",
       "      <td>0</td>\n",
       "      <td>0</td>\n",
       "      <td>27.0</td>\n",
       "      <td>6.0</td>\n",
       "      <td>0.000835</td>\n",
       "    </tr>\n",
       "    <tr>\n",
       "      <th>1</th>\n",
       "      <td>180</td>\n",
       "      <td>3413929.0</td>\n",
       "      <td>9431.126565</td>\n",
       "      <td>0.548905</td>\n",
       "      <td>1.0</td>\n",
       "      <td>12383114.0</td>\n",
       "      <td>102534.0</td>\n",
       "      <td>4686.0</td>\n",
       "      <td>0</td>\n",
       "      <td>0</td>\n",
       "      <td>...</td>\n",
       "      <td>6.4</td>\n",
       "      <td>20.1</td>\n",
       "      <td>3.2</td>\n",
       "      <td>0</td>\n",
       "      <td>0</td>\n",
       "      <td>0</td>\n",
       "      <td>0</td>\n",
       "      <td>2021.0</td>\n",
       "      <td>2021.0</td>\n",
       "      <td>0.000835</td>\n",
       "    </tr>\n",
       "    <tr>\n",
       "      <th>2</th>\n",
       "      <td>1</td>\n",
       "      <td>3000007.0</td>\n",
       "      <td>8192.772710</td>\n",
       "      <td>0.730845</td>\n",
       "      <td>1.0</td>\n",
       "      <td>371250.0</td>\n",
       "      <td>9585.0</td>\n",
       "      <td>9585.0</td>\n",
       "      <td>0</td>\n",
       "      <td>0</td>\n",
       "      <td>...</td>\n",
       "      <td>6.4</td>\n",
       "      <td>20.1</td>\n",
       "      <td>3.2</td>\n",
       "      <td>0</td>\n",
       "      <td>0</td>\n",
       "      <td>0</td>\n",
       "      <td>0</td>\n",
       "      <td>2021.0</td>\n",
       "      <td>2021.0</td>\n",
       "      <td>0.000835</td>\n",
       "    </tr>\n",
       "    <tr>\n",
       "      <th>3</th>\n",
       "      <td>2</td>\n",
       "      <td>3000010.0</td>\n",
       "      <td>43459.105586</td>\n",
       "      <td>0.729904</td>\n",
       "      <td>1.0</td>\n",
       "      <td>30760650.0</td>\n",
       "      <td>500000.0</td>\n",
       "      <td>500000.0</td>\n",
       "      <td>1</td>\n",
       "      <td>0</td>\n",
       "      <td>...</td>\n",
       "      <td>6.4</td>\n",
       "      <td>20.1</td>\n",
       "      <td>3.2</td>\n",
       "      <td>0</td>\n",
       "      <td>0</td>\n",
       "      <td>0</td>\n",
       "      <td>0</td>\n",
       "      <td>22.0</td>\n",
       "      <td>2021.0</td>\n",
       "      <td>0.000835</td>\n",
       "    </tr>\n",
       "    <tr>\n",
       "      <th>4</th>\n",
       "      <td>3</td>\n",
       "      <td>3000011.0</td>\n",
       "      <td>19246.260335</td>\n",
       "      <td>0.827548</td>\n",
       "      <td>1.0</td>\n",
       "      <td>1474200.0</td>\n",
       "      <td>21735.0</td>\n",
       "      <td>21735.0</td>\n",
       "      <td>0</td>\n",
       "      <td>1</td>\n",
       "      <td>...</td>\n",
       "      <td>6.4</td>\n",
       "      <td>20.1</td>\n",
       "      <td>3.2</td>\n",
       "      <td>0</td>\n",
       "      <td>0</td>\n",
       "      <td>0</td>\n",
       "      <td>0</td>\n",
       "      <td>9.0</td>\n",
       "      <td>2021.0</td>\n",
       "      <td>0.000835</td>\n",
       "    </tr>\n",
       "  </tbody>\n",
       "</table>\n",
       "<p>5 rows × 38 columns</p>\n",
       "</div>"
      ],
      "text/plain": [
       "   Unnamed: 0        bin      roofarea       svf  numbldgs   assesstot  \\\n",
       "0           0  3000002.0  17683.475106  0.769877       1.0  17318250.0   \n",
       "1         180  3413929.0   9431.126565  0.548905       1.0  12383114.0   \n",
       "2           1  3000007.0   8192.772710  0.730845       1.0    371250.0   \n",
       "3           2  3000010.0  43459.105586  0.729904       1.0  30760650.0   \n",
       "4           3  3000011.0  19246.260335  0.827548       1.0   1474200.0   \n",
       "\n",
       "   bldgarea   comarea  yearbuilt_1900_1940  yearbuilt_1940_1980  ...  \\\n",
       "0  170493.0  163894.0                    0                    0  ...   \n",
       "1  102534.0    4686.0                    0                    0  ...   \n",
       "2    9585.0    9585.0                    0                    0  ...   \n",
       "3  500000.0  500000.0                    1                    0  ...   \n",
       "4   21735.0   21735.0                    0                    1  ...   \n",
       "\n",
       "   pctLatino  pctUnder18  pctOver62  solar  approved1_block  approved2_block  \\\n",
       "0        6.4        20.1        3.2      0                0                0   \n",
       "1        6.4        20.1        3.2      0                0                0   \n",
       "2        6.4        20.1        3.2      0                0                0   \n",
       "3        6.4        20.1        3.2      0                0                0   \n",
       "4        6.4        20.1        3.2      0                0                0   \n",
       "\n",
       "   approved5_block  since_yearalter1  since_yearalter2  popdensity  \n",
       "0                0              27.0               6.0    0.000835  \n",
       "1                0            2021.0            2021.0    0.000835  \n",
       "2                0            2021.0            2021.0    0.000835  \n",
       "3                0              22.0            2021.0    0.000835  \n",
       "4                0               9.0            2021.0    0.000835  \n",
       "\n",
       "[5 rows x 38 columns]"
      ]
     },
     "execution_count": 3,
     "metadata": {},
     "output_type": "execute_result"
    }
   ],
   "source": [
    "full = pd.read_csv('full.csv')\n",
    "full.head()"
   ]
  },
  {
   "cell_type": "code",
   "execution_count": 4,
   "id": "rental-termination",
   "metadata": {},
   "outputs": [
    {
     "data": {
      "text/plain": [
       "Unnamed: 0               int64\n",
       "bin                    float64\n",
       "roofarea               float64\n",
       "svf                    float64\n",
       "numbldgs               float64\n",
       "assesstot              float64\n",
       "bldgarea               float64\n",
       "comarea                float64\n",
       "yearbuilt_1900_1940      int64\n",
       "yearbuilt_1940_1980      int64\n",
       "yearbuilt_1980_2000      int64\n",
       "yearbuilt_2000_2010      int64\n",
       "yearbuilt_2010_2015      int64\n",
       "yearbuilt_2015_2020      int64\n",
       "landuse_2.0              int64\n",
       "landuse_3.0              int64\n",
       "landuse_4.0              int64\n",
       "landuse_5.0              int64\n",
       "landuse_6.0              int64\n",
       "landuse_7.0              int64\n",
       "landuse_8.0              int64\n",
       "GEOID                    int64\n",
       "tractarea              float64\n",
       "pctBachelors           float64\n",
       "medianIncome             int64\n",
       "pctWhite               float64\n",
       "pctAfricanAmerican     float64\n",
       "pctAsian               float64\n",
       "pctLatino              float64\n",
       "pctUnder18             float64\n",
       "pctOver62              float64\n",
       "solar                    int64\n",
       "approved1_block          int64\n",
       "approved2_block          int64\n",
       "approved5_block          int64\n",
       "since_yearalter1       float64\n",
       "since_yearalter2       float64\n",
       "popdensity             float64\n",
       "dtype: object"
      ]
     },
     "execution_count": 4,
     "metadata": {},
     "output_type": "execute_result"
    }
   ],
   "source": [
    "full.dtypes"
   ]
  },
  {
   "cell_type": "code",
   "execution_count": 5,
   "id": "waiting-mustang",
   "metadata": {},
   "outputs": [
    {
     "name": "stdout",
     "output_type": "stream",
     "text": [
      "------------------\n",
      "63002\n",
      "780\n",
      "------------------\n",
      "3050\n",
      "62\n",
      "------------------\n",
      "22645\n",
      "75\n",
      "------------------\n",
      "4864\n",
      "21\n",
      "------------------\n",
      "3094\n",
      "45\n",
      "------------------\n",
      "1056\n",
      "3\n"
     ]
    }
   ],
   "source": [
    "for i in range(2,8):\n",
    "    print('------------------')\n",
    "    print(len(full[full[f'landuse_{i}.0'] == 1]))\n",
    "    print(len(full[(full[f'landuse_{i}.0'] == 1) & (full.solar == 1)]))"
   ]
  },
  {
   "cell_type": "code",
   "execution_count": 6,
   "id": "inside-theme",
   "metadata": {},
   "outputs": [
    {
     "data": {
      "text/plain": [
       "Index(['approved1_block', 'approved2_block', 'approved5_block', 'assesstot',\n",
       "       'bldgarea', 'comarea', 'landuse_2.0', 'landuse_3.0', 'landuse_4.0',\n",
       "       'landuse_5.0', 'landuse_6.0', 'landuse_7.0', 'landuse_8.0',\n",
       "       'medianIncome', 'numbldgs', 'pctAfricanAmerican', 'pctAsian',\n",
       "       'pctBachelors', 'pctLatino', 'pctOver62', 'pctUnder18', 'pctWhite',\n",
       "       'popdensity', 'roofarea', 'svf', 'tractarea', 'yearbuilt_1900_1940',\n",
       "       'yearbuilt_1940_1980', 'yearbuilt_1980_2000', 'yearbuilt_2000_2010',\n",
       "       'yearbuilt_2010_2015', 'yearbuilt_2015_2020'],\n",
       "      dtype='object')"
      ]
     },
     "execution_count": 6,
     "metadata": {},
     "output_type": "execute_result"
    }
   ],
   "source": [
    "features = full.columns.difference(['solar','GEOID','Unnamed: 0','bin','since_yearalter1','since_yearalter2'])\n",
    "features"
   ]
  },
  {
   "cell_type": "code",
   "execution_count": 7,
   "id": "demographic-aberdeen",
   "metadata": {},
   "outputs": [],
   "source": [
    "X = full[features]\n",
    "y = full['solar']\n",
    "X_train, X_test, y_train, y_test = train_test_split(X, y, test_size = 0.25, random_state=0)\n"
   ]
  },
  {
   "cell_type": "code",
   "execution_count": 8,
   "id": "clinical-smart",
   "metadata": {},
   "outputs": [],
   "source": [
    "svm_clf = Pipeline([\n",
    "    (\"scaler\", StandardScaler()),\n",
    "    (\"linear_svc\", LinearSVC(C=1, loss=\"hinge\", random_state=42)),\n",
    "])"
   ]
  },
  {
   "cell_type": "code",
   "execution_count": 9,
   "id": "infinite-production",
   "metadata": {},
   "outputs": [
    {
     "data": {
      "text/plain": [
       "array([0.50999797, 0.50999797, 0.50999797, ..., 0.50999797, 0.50999797,\n",
       "       0.50999797])"
      ]
     },
     "execution_count": 9,
     "metadata": {},
     "output_type": "execute_result"
    }
   ],
   "source": [
    "weights = compute_sample_weight('balanced',y_train)\n",
    "weights"
   ]
  },
  {
   "cell_type": "code",
   "execution_count": 10,
   "id": "aggressive-gambling",
   "metadata": {},
   "outputs": [
    {
     "data": {
      "text/plain": [
       "Pipeline(steps=[('scaler', StandardScaler()),\n",
       "                ('linear_svc', LinearSVC(C=1, loss='hinge', random_state=42))])"
      ]
     },
     "execution_count": 10,
     "metadata": {},
     "output_type": "execute_result"
    }
   ],
   "source": [
    "svm_clf.fit(X_train, y_train)"
   ]
  },
  {
   "cell_type": "code",
   "execution_count": 11,
   "id": "blind-guide",
   "metadata": {},
   "outputs": [],
   "source": [
    "y_pred = svm_clf.predict(X_test)"
   ]
  },
  {
   "cell_type": "code",
   "execution_count": 12,
   "id": "neutral-brighton",
   "metadata": {},
   "outputs": [
    {
     "data": {
      "text/plain": [
       "1269"
      ]
     },
     "execution_count": 12,
     "metadata": {},
     "output_type": "execute_result"
    }
   ],
   "source": [
    "count = 0\n",
    "for solar in y_test:\n",
    "    if solar == 1:\n",
    "        count = count+1\n",
    "        \n",
    "count"
   ]
  },
  {
   "cell_type": "code",
   "execution_count": 7,
   "id": "neither-reminder",
   "metadata": {},
   "outputs": [],
   "source": [
    "svm_p = Pipeline([\n",
    "    (\"scaler\", StandardScaler()),\n",
    "    (\"svm\", svm.SVC(kernel=\"linC=1,random_state=42, class_weight='balanced',kernel='linear')),\n",
    "])"
   ]
  },
  {
   "cell_type": "code",
   "execution_count": null,
   "id": "blond-stockholm",
   "metadata": {},
   "outputs": [],
   "source": [
    "svm_p.fit(X_train, y_train)"
   ]
  },
  {
   "cell_type": "code",
   "execution_count": null,
   "id": "approved-still",
   "metadata": {},
   "outputs": [],
   "source": [
    "y_pred = svm_p.predict(X_test)"
   ]
  },
  {
   "cell_type": "code",
   "execution_count": 57,
   "id": "subjective-deposit",
   "metadata": {},
   "outputs": [],
   "source": [
    "from matplotlib import pyplot as plt\n"
   ]
  },
  {
   "cell_type": "code",
   "execution_count": 14,
   "id": "portuguese-leadership",
   "metadata": {},
   "outputs": [],
   "source": [
    "def binary_classification_performance(y_test, y_pred, weights=None):\n",
    "    tp, fp, fn, tn = confusion_matrix(y_test, y_pred, sample_weight=weights).ravel()\n",
    "    accuracy = round(accuracy_score(y_pred = y_pred, y_true = y_test),2)\n",
    "    precision = round(precision_score(y_pred = y_pred, y_true = y_test),2)\n",
    "    recall = round(recall_score(y_pred = y_pred, y_true = y_test),2)\n",
    "    f1_score = round(2*precision*recall/(precision + recall),2)\n",
    "    specificity = round(tn/(tn+fp),2)\n",
    "    npv = round(tn/(tn+fn),2)\n",
    "    auc_roc = round(roc_auc_score(y_score = y_pred, y_true = y_test),2)\n",
    "\n",
    "\n",
    "    result = pd.DataFrame({'Accuracy' : [accuracy],\n",
    "                         'Precision (or PPV)' : [precision],\n",
    "                         'Recall (senitivity or TPR)' : [recall],\n",
    "                         'f1 score' : [f1_score],\n",
    "                         'AUC_ROC' : [auc_roc],\n",
    "                         'Specificty (or TNR)': [specificity],\n",
    "                         'NPV' : [npv],\n",
    "                         'True Positive' : [tp],\n",
    "                         'True Negative' : [tn],\n",
    "                         'False Positive':[fp],\n",
    "                         'False Negative':[fn]})\n",
    "    return result\n"
   ]
  },
  {
   "cell_type": "code",
   "execution_count": 105,
   "id": "compressed-dialogue",
   "metadata": {},
   "outputs": [],
   "source": [
    "test_weights = compute_sample_weight('balanced',y_test)\n"
   ]
  },
  {
   "cell_type": "code",
   "execution_count": 15,
   "id": "environmental-tunnel",
   "metadata": {},
   "outputs": [],
   "source": [
    "res = binary_classification_performance(y_test, y_pred)"
   ]
  },
  {
   "cell_type": "code",
   "execution_count": 84,
   "id": "unlikely-typing",
   "metadata": {},
   "outputs": [
    {
     "data": {
      "text/plain": [
       "array([0, 0, 0, ..., 0, 0, 0])"
      ]
     },
     "execution_count": 84,
     "metadata": {},
     "output_type": "execute_result"
    }
   ],
   "source": [
    "y_pred"
   ]
  },
  {
   "cell_type": "code",
   "execution_count": 107,
   "id": "painful-montgomery",
   "metadata": {},
   "outputs": [
    {
     "data": {
      "text/html": [
       "<div>\n",
       "<style scoped>\n",
       "    .dataframe tbody tr th:only-of-type {\n",
       "        vertical-align: middle;\n",
       "    }\n",
       "\n",
       "    .dataframe tbody tr th {\n",
       "        vertical-align: top;\n",
       "    }\n",
       "\n",
       "    .dataframe thead th {\n",
       "        text-align: right;\n",
       "    }\n",
       "</style>\n",
       "<table border=\"1\" class=\"dataframe\">\n",
       "  <thead>\n",
       "    <tr style=\"text-align: right;\">\n",
       "      <th></th>\n",
       "      <th>Accuracy</th>\n",
       "      <th>Precision (or PPV)</th>\n",
       "      <th>Recall (senitivity or TPR)</th>\n",
       "      <th>f1 score</th>\n",
       "      <th>AUC_ROC</th>\n",
       "      <th>Specificty (or TNR)</th>\n",
       "      <th>NPV</th>\n",
       "      <th>True Positive</th>\n",
       "      <th>True Negative</th>\n",
       "      <th>False Positive</th>\n",
       "      <th>False Negative</th>\n",
       "    </tr>\n",
       "  </thead>\n",
       "  <tbody>\n",
       "    <tr>\n",
       "      <th>0</th>\n",
       "      <td>0.91</td>\n",
       "      <td>0.15</td>\n",
       "      <td>0.78</td>\n",
       "      <td>0.25</td>\n",
       "      <td>0.85</td>\n",
       "      <td>0.9</td>\n",
       "      <td>0.78</td>\n",
       "      <td>30659.489671</td>\n",
       "      <td>26099.255319</td>\n",
       "      <td>2795.010329</td>\n",
       "      <td>7355.244681</td>\n",
       "    </tr>\n",
       "  </tbody>\n",
       "</table>\n",
       "</div>"
      ],
      "text/plain": [
       "   Accuracy  Precision (or PPV)  Recall (senitivity or TPR)  f1 score  \\\n",
       "0      0.91                0.15                        0.78      0.25   \n",
       "\n",
       "   AUC_ROC  Specificty (or TNR)   NPV  True Positive  True Negative  \\\n",
       "0     0.85                  0.9  0.78   30659.489671   26099.255319   \n",
       "\n",
       "   False Positive  False Negative  \n",
       "0     2795.010329     7355.244681  "
      ]
     },
     "execution_count": 107,
     "metadata": {},
     "output_type": "execute_result"
    }
   ],
   "source": [
    "res_weighted"
   ]
  },
  {
   "cell_type": "code",
   "execution_count": 16,
   "id": "anticipated-welding",
   "metadata": {},
   "outputs": [
    {
     "data": {
      "text/html": [
       "<div>\n",
       "<style scoped>\n",
       "    .dataframe tbody tr th:only-of-type {\n",
       "        vertical-align: middle;\n",
       "    }\n",
       "\n",
       "    .dataframe tbody tr th {\n",
       "        vertical-align: top;\n",
       "    }\n",
       "\n",
       "    .dataframe thead th {\n",
       "        text-align: right;\n",
       "    }\n",
       "</style>\n",
       "<table border=\"1\" class=\"dataframe\">\n",
       "  <thead>\n",
       "    <tr style=\"text-align: right;\">\n",
       "      <th></th>\n",
       "      <th>Accuracy</th>\n",
       "      <th>Precision (or PPV)</th>\n",
       "      <th>Recall (senitivity or TPR)</th>\n",
       "      <th>f1 score</th>\n",
       "      <th>AUC_ROC</th>\n",
       "      <th>Specificty (or TNR)</th>\n",
       "      <th>NPV</th>\n",
       "      <th>True Positive</th>\n",
       "      <th>True Negative</th>\n",
       "      <th>False Positive</th>\n",
       "      <th>False Negative</th>\n",
       "    </tr>\n",
       "  </thead>\n",
       "  <tbody>\n",
       "    <tr>\n",
       "      <th>0</th>\n",
       "      <td>0.99</td>\n",
       "      <td>1.0</td>\n",
       "      <td>0.63</td>\n",
       "      <td>0.77</td>\n",
       "      <td>0.81</td>\n",
       "      <td>1.0</td>\n",
       "      <td>0.63</td>\n",
       "      <td>65640</td>\n",
       "      <td>797</td>\n",
       "      <td>0</td>\n",
       "      <td>472</td>\n",
       "    </tr>\n",
       "  </tbody>\n",
       "</table>\n",
       "</div>"
      ],
      "text/plain": [
       "   Accuracy  Precision (or PPV)  Recall (senitivity or TPR)  f1 score  \\\n",
       "0      0.99                 1.0                        0.63      0.77   \n",
       "\n",
       "   AUC_ROC  Specificty (or TNR)   NPV  True Positive  True Negative  \\\n",
       "0     0.81                  1.0  0.63          65640            797   \n",
       "\n",
       "   False Positive  False Negative  \n",
       "0               0             472  "
      ]
     },
     "execution_count": 16,
     "metadata": {},
     "output_type": "execute_result"
    }
   ],
   "source": [
    "res"
   ]
  },
  {
   "cell_type": "code",
   "execution_count": null,
   "id": "blocked-sense",
   "metadata": {},
   "outputs": [],
   "source": []
  }
 ],
 "metadata": {
  "kernelspec": {
   "display_name": "Python 3",
   "language": "python",
   "name": "python3"
  },
  "language_info": {
   "codemirror_mode": {
    "name": "ipython",
    "version": 3
   },
   "file_extension": ".py",
   "mimetype": "text/x-python",
   "name": "python",
   "nbconvert_exporter": "python",
   "pygments_lexer": "ipython3",
   "version": "3.7.10"
  }
 },
 "nbformat": 4,
 "nbformat_minor": 5
}
